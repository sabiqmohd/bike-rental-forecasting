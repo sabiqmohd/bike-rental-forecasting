{
 "cells": [
  {
   "cell_type": "code",
   "execution_count": 1,
   "id": "bf6a4852-e405-4aab-92f9-69e4e570f4ac",
   "metadata": {},
   "outputs": [
    {
     "data": {
      "text/html": [
       "\n",
       "            <div>\n",
       "                <ins><a href=\"https://ydata.ai/register\">Upgrade to ydata-sdk</a></ins>\n",
       "                <p>\n",
       "                    Improve your data and profiling with ydata-sdk, featuring data quality scoring, redundancy detection, outlier identification, text validation, and synthetic data generation.\n",
       "                </p>\n",
       "            </div>\n",
       "            "
      ],
      "text/plain": [
       "<IPython.core.display.HTML object>"
      ]
     },
     "metadata": {},
     "output_type": "display_data"
    }
   ],
   "source": [
    "import os\n",
    "import sys\n",
    "from pathlib import Path\n",
    "\n",
    "# Dynamically locate project root and set working dir\n",
    "project_root = Path().resolve().parents[1]\n",
    "os.chdir(project_root)\n",
    "sys.path.append(str(project_root))\n",
    "\n",
    "import numpy as np\n",
    "import pandas as pd\n",
    "import seaborn as sns\n",
    "import matplotlib.pyplot as plt\n",
    "import plotly.express as px\n",
    "from catboost import CatBoostRegressor, Pool\n",
    "import optuna\n",
    "from typing import Union, Dict, Tuple\n",
    "from sklearn.model_selection import TimeSeriesSplit\n",
    "from ydata_profiling import ProfileReport\n",
    "from sklearn.metrics import mean_absolute_error, mean_squared_error\n",
    "from sklearn.ensemble import RandomForestRegressor as RF\n",
    "import warnings\n",
    "warnings.filterwarnings('ignore')\n",
    "%matplotlib inline"
   ]
  },
  {
   "cell_type": "markdown",
   "id": "2487c3dc-0fa4-4639-bf40-453b7d14167a",
   "metadata": {},
   "source": [
    "# Table of Contents\n",
    "- [Dataset Preparation](#Dataset-Preparation)\n",
    "- [Baseline Model](#Baseline-Model)\n",
    "- [Baseline Model with target lag features](#Baseline-Model-with-Target-Lag-Features)\n",
    "- [Baseline Model with all lag features](#Baseline-Model-with-All-Lag-Features)\n",
    "- [Gradient Boosting with Hyperparameters Tuning](#Gradient-Boosting-with-Hyperparameters-Tuning)\n",
    "- [Conclusions](#Conclusions)"
   ]
  },
  {
   "cell_type": "markdown",
   "id": "fd865b88-3901-45e9-8e6c-a484f4db5cc0",
   "metadata": {},
   "source": [
    "# Dataset Preparation"
   ]
  },
  {
   "cell_type": "code",
   "execution_count": 2,
   "id": "b673de35-3864-4280-af85-50805f511220",
   "metadata": {},
   "outputs": [
    {
     "name": "stdout",
     "output_type": "stream",
     "text": [
      "The history saving thread hit an unexpected error (OperationalError('attempt to write a readonly database')).History will not be written to the database.\n"
     ]
    }
   ],
   "source": [
    "# Loading the data\n",
    "data = pd.read_parquet('./data/raw_data/database.parquet')"
   ]
  },
  {
   "cell_type": "code",
   "execution_count": 3,
   "id": "20f855f3-04aa-4b07-8ff0-73989b10445f",
   "metadata": {
    "scrolled": true
   },
   "outputs": [
    {
     "data": {
      "text/html": [
       "<div>\n",
       "<style scoped>\n",
       "    .dataframe tbody tr th:only-of-type {\n",
       "        vertical-align: middle;\n",
       "    }\n",
       "\n",
       "    .dataframe tbody tr th {\n",
       "        vertical-align: top;\n",
       "    }\n",
       "\n",
       "    .dataframe thead th {\n",
       "        text-align: right;\n",
       "    }\n",
       "</style>\n",
       "<table border=\"1\" class=\"dataframe\">\n",
       "  <thead>\n",
       "    <tr style=\"text-align: right;\">\n",
       "      <th></th>\n",
       "      <th>datetime</th>\n",
       "      <th>season</th>\n",
       "      <th>yr</th>\n",
       "      <th>mnth</th>\n",
       "      <th>hr</th>\n",
       "      <th>holiday</th>\n",
       "      <th>weekday</th>\n",
       "      <th>workingday</th>\n",
       "      <th>weathersit</th>\n",
       "      <th>temp</th>\n",
       "      <th>atemp</th>\n",
       "      <th>hum</th>\n",
       "      <th>windspeed</th>\n",
       "      <th>casual</th>\n",
       "      <th>registered</th>\n",
       "      <th>cnt</th>\n",
       "    </tr>\n",
       "  </thead>\n",
       "  <tbody>\n",
       "    <tr>\n",
       "      <th>0</th>\n",
       "      <td>2011-01-01 00:00:00</td>\n",
       "      <td>1</td>\n",
       "      <td>0</td>\n",
       "      <td>1</td>\n",
       "      <td>0</td>\n",
       "      <td>0</td>\n",
       "      <td>6</td>\n",
       "      <td>0</td>\n",
       "      <td>1</td>\n",
       "      <td>0.24</td>\n",
       "      <td>0.2879</td>\n",
       "      <td>0.81</td>\n",
       "      <td>0.0</td>\n",
       "      <td>3</td>\n",
       "      <td>13</td>\n",
       "      <td>16</td>\n",
       "    </tr>\n",
       "    <tr>\n",
       "      <th>1</th>\n",
       "      <td>2011-01-01 01:00:00</td>\n",
       "      <td>1</td>\n",
       "      <td>0</td>\n",
       "      <td>1</td>\n",
       "      <td>1</td>\n",
       "      <td>0</td>\n",
       "      <td>6</td>\n",
       "      <td>0</td>\n",
       "      <td>1</td>\n",
       "      <td>0.22</td>\n",
       "      <td>0.2727</td>\n",
       "      <td>0.80</td>\n",
       "      <td>0.0</td>\n",
       "      <td>8</td>\n",
       "      <td>32</td>\n",
       "      <td>40</td>\n",
       "    </tr>\n",
       "    <tr>\n",
       "      <th>2</th>\n",
       "      <td>2011-01-01 02:00:00</td>\n",
       "      <td>1</td>\n",
       "      <td>0</td>\n",
       "      <td>1</td>\n",
       "      <td>2</td>\n",
       "      <td>0</td>\n",
       "      <td>6</td>\n",
       "      <td>0</td>\n",
       "      <td>1</td>\n",
       "      <td>0.22</td>\n",
       "      <td>0.2727</td>\n",
       "      <td>0.80</td>\n",
       "      <td>0.0</td>\n",
       "      <td>5</td>\n",
       "      <td>27</td>\n",
       "      <td>32</td>\n",
       "    </tr>\n",
       "  </tbody>\n",
       "</table>\n",
       "</div>"
      ],
      "text/plain": [
       "              datetime  season  yr  mnth  hr  holiday  weekday  workingday  \\\n",
       "0  2011-01-01 00:00:00       1   0     1   0        0        6           0   \n",
       "1  2011-01-01 01:00:00       1   0     1   1        0        6           0   \n",
       "2  2011-01-01 02:00:00       1   0     1   2        0        6           0   \n",
       "\n",
       "   weathersit  temp   atemp   hum  windspeed  casual  registered  cnt  \n",
       "0           1  0.24  0.2879  0.81        0.0       3          13   16  \n",
       "1           1  0.22  0.2727  0.80        0.0       8          32   40  \n",
       "2           1  0.22  0.2727  0.80        0.0       5          27   32  "
      ]
     },
     "execution_count": 3,
     "metadata": {},
     "output_type": "execute_result"
    }
   ],
   "source": [
    "data.head(3)"
   ]
  },
  {
   "cell_type": "markdown",
   "id": "acc72ca3-33bc-49c6-bd39-2217f80071c1",
   "metadata": {},
   "source": [
    "Let's drop the columns that are not required for further analysis and modeling.\n",
    "\n",
    "- 'yr' does not seem to help because it\n",
    "- 'casual', 'registered' are already included in the target column 'cnt'"
   ]
  },
  {
   "cell_type": "code",
   "execution_count": 5,
   "id": "e259c57d-f5d3-4d8f-82b8-593813d87c33",
   "metadata": {},
   "outputs": [],
   "source": [
    "drop_cols = ['yr', 'casual', 'registered', 'datetime']"
   ]
  },
  {
   "cell_type": "code",
   "execution_count": 6,
   "id": "ebe37423-8323-4ed4-9d16-2aff97dea594",
   "metadata": {},
   "outputs": [],
   "source": [
    "data = data.drop(columns=drop_cols)"
   ]
  },
  {
   "cell_type": "code",
   "execution_count": 7,
   "id": "9db80182-af7f-4da3-84f4-e1ac99e0792c",
   "metadata": {},
   "outputs": [
    {
     "data": {
      "text/html": [
       "<div>\n",
       "<style scoped>\n",
       "    .dataframe tbody tr th:only-of-type {\n",
       "        vertical-align: middle;\n",
       "    }\n",
       "\n",
       "    .dataframe tbody tr th {\n",
       "        vertical-align: top;\n",
       "    }\n",
       "\n",
       "    .dataframe thead th {\n",
       "        text-align: right;\n",
       "    }\n",
       "</style>\n",
       "<table border=\"1\" class=\"dataframe\">\n",
       "  <thead>\n",
       "    <tr style=\"text-align: right;\">\n",
       "      <th></th>\n",
       "      <th>season</th>\n",
       "      <th>mnth</th>\n",
       "      <th>hr</th>\n",
       "      <th>holiday</th>\n",
       "      <th>weekday</th>\n",
       "      <th>workingday</th>\n",
       "      <th>weathersit</th>\n",
       "      <th>temp</th>\n",
       "      <th>atemp</th>\n",
       "      <th>hum</th>\n",
       "      <th>windspeed</th>\n",
       "      <th>cnt</th>\n",
       "    </tr>\n",
       "  </thead>\n",
       "  <tbody>\n",
       "    <tr>\n",
       "      <th>0</th>\n",
       "      <td>1</td>\n",
       "      <td>1</td>\n",
       "      <td>0</td>\n",
       "      <td>0</td>\n",
       "      <td>6</td>\n",
       "      <td>0</td>\n",
       "      <td>1</td>\n",
       "      <td>0.24</td>\n",
       "      <td>0.2879</td>\n",
       "      <td>0.81</td>\n",
       "      <td>0.0</td>\n",
       "      <td>16</td>\n",
       "    </tr>\n",
       "    <tr>\n",
       "      <th>1</th>\n",
       "      <td>1</td>\n",
       "      <td>1</td>\n",
       "      <td>1</td>\n",
       "      <td>0</td>\n",
       "      <td>6</td>\n",
       "      <td>0</td>\n",
       "      <td>1</td>\n",
       "      <td>0.22</td>\n",
       "      <td>0.2727</td>\n",
       "      <td>0.80</td>\n",
       "      <td>0.0</td>\n",
       "      <td>40</td>\n",
       "    </tr>\n",
       "    <tr>\n",
       "      <th>2</th>\n",
       "      <td>1</td>\n",
       "      <td>1</td>\n",
       "      <td>2</td>\n",
       "      <td>0</td>\n",
       "      <td>6</td>\n",
       "      <td>0</td>\n",
       "      <td>1</td>\n",
       "      <td>0.22</td>\n",
       "      <td>0.2727</td>\n",
       "      <td>0.80</td>\n",
       "      <td>0.0</td>\n",
       "      <td>32</td>\n",
       "    </tr>\n",
       "  </tbody>\n",
       "</table>\n",
       "</div>"
      ],
      "text/plain": [
       "   season  mnth  hr  holiday  weekday  workingday  weathersit  temp   atemp  \\\n",
       "0       1     1   0        0        6           0           1  0.24  0.2879   \n",
       "1       1     1   1        0        6           0           1  0.22  0.2727   \n",
       "2       1     1   2        0        6           0           1  0.22  0.2727   \n",
       "\n",
       "    hum  windspeed  cnt  \n",
       "0  0.81        0.0   16  \n",
       "1  0.80        0.0   40  \n",
       "2  0.80        0.0   32  "
      ]
     },
     "execution_count": 7,
     "metadata": {},
     "output_type": "execute_result"
    }
   ],
   "source": [
    "data.head(3)"
   ]
  },
  {
   "cell_type": "markdown",
   "id": "4efe9282-2805-40c5-b025-380c79f11509",
   "metadata": {},
   "source": [
    "# Baseline Model"
   ]
  },
  {
   "cell_type": "markdown",
   "id": "a1f69749-b76c-4db2-8fd4-0f0d1e4f0fc7",
   "metadata": {},
   "source": [
    "We will use Random Forest using Raw Features as the Baseline Model because it does not require much tuning.\n",
    "\n",
    "Then, we will add features and try other algorithms to see how big the improvement is.\n",
    "\n",
    "For the metrics, we will use:\n",
    "- MAPE\n",
    "- MAE\n",
    "- RMSE"
   ]
  },
  {
   "cell_type": "code",
   "execution_count": 8,
   "id": "0fbb22db-8e31-43ae-8c75-31b9aded64e3",
   "metadata": {},
   "outputs": [],
   "source": [
    "def compute_metrics(\n",
    "    y_true: Union[np.ndarray, list], \n",
    "    y_pred: Union[np.ndarray, list]\n",
    ") -> Dict[str, float]:\n",
    "    \"\"\"\n",
    "    Compute evaluation metrics between true and predicted values.\n",
    "\n",
    "    Metrics returned:\n",
    "    - MAPE: Mean Absolute Percentage Error (in %)\n",
    "    - MAE: Mean Absolute Error\n",
    "    - RMSE: Root Mean Squared Error\n",
    "\n",
    "    Parameters:\n",
    "    ----------\n",
    "    y_true : array-like\n",
    "        Ground truth values.\n",
    "    y_pred : array-like\n",
    "        Predicted values.\n",
    "\n",
    "    Returns:\n",
    "    -------\n",
    "    dict\n",
    "        Dictionary with keys 'MAPE', 'MAE', and 'RMSE' and their float values.\n",
    "    \"\"\"\n",
    "    mae = mean_absolute_error(y_true, y_pred)\n",
    "    rmse = mean_squared_error(y_true, y_pred, squared=False)\n",
    "\n",
    "    y_true = np.array(y_true)\n",
    "    y_pred = np.array(y_pred)\n",
    "\n",
    "    mape = np.mean(np.abs((y_true - y_pred) / np.where(y_true == 0, 0.01, y_true))) * 100\n",
    "\n",
    "    return {\n",
    "        'MAE': round(mae, 2),\n",
    "        'RMSE': round(rmse, 2),\n",
    "        'MAPE': round(mape, 2)\n",
    "    }"
   ]
  },
  {
   "cell_type": "code",
   "execution_count": 9,
   "id": "6e173ec4-6c3e-484c-a916-36e7b6b47969",
   "metadata": {},
   "outputs": [],
   "source": [
    "def prepare_dataset(\n",
    "    df: pd.DataFrame, \n",
    "    train_fraction: float = 0.8\n",
    ") -> Tuple[pd.DataFrame, pd.DataFrame, pd.Series, pd.Series]:\n",
    "    \"\"\"\n",
    "    Splits a DataFrame into training and testing sets for features and target.\n",
    "\n",
    "    Parameters:\n",
    "    ----------\n",
    "    df : pd.DataFrame\n",
    "        The input DataFrame that must contain a 'target' column.\n",
    "    train_fraction : float, optional (default=0.8)\n",
    "        The fraction of data to use for training (between 0 and 1).\n",
    "\n",
    "    Returns:\n",
    "    -------\n",
    "    x_train : pd.DataFrame\n",
    "        Training features.\n",
    "    x_test : pd.DataFrame\n",
    "        Testing features.\n",
    "    y_train : pd.Series\n",
    "        Training target values.\n",
    "    y_test : pd.Series\n",
    "        Testing target values.\n",
    "    \"\"\"\n",
    "    feats = [col for col in df.columns if col != 'target']\n",
    "    x, y = df[feats], df['target']\n",
    "    train_size = int(train_fraction * df.shape[0])\n",
    "    x_train, x_test = x[:train_size], x[train_size:]\n",
    "    y_train, y_test = y[:train_size], y[train_size:]\n",
    "    return x_train, x_test, y_train, y_test"
   ]
  },
  {
   "cell_type": "markdown",
   "id": "45debca6-63c1-416c-9e42-919b735a58a5",
   "metadata": {},
   "source": [
    "#### Target definition\n",
    "\n",
    "For the target, we will use the next hour bike count because we want to predict what this value will be ti adjust the pricing."
   ]
  },
  {
   "cell_type": "code",
   "execution_count": 10,
   "id": "8ef7c3a0-f08c-412f-9a10-162017e276a9",
   "metadata": {},
   "outputs": [],
   "source": [
    "df = data.copy()"
   ]
  },
  {
   "cell_type": "code",
   "execution_count": 11,
   "id": "bc92beb1-ebbe-4c09-8ebb-2220749eb960",
   "metadata": {},
   "outputs": [],
   "source": [
    "df['target'] = df['cnt'].shift(-1).fillna(method='ffill')\n",
    "df.drop(columns=['cnt'], inplace=True)"
   ]
  },
  {
   "cell_type": "code",
   "execution_count": 12,
   "id": "67cd47d3-d7c1-4880-8c6a-a0b3418a7645",
   "metadata": {},
   "outputs": [],
   "source": [
    "x_train, x_test, y_train, y_test = prepare_dataset(df, train_fraction=0.8)"
   ]
  },
  {
   "cell_type": "code",
   "execution_count": 14,
   "id": "976ae91e-cd87-4980-9bdd-c9b0f406b299",
   "metadata": {},
   "outputs": [
    {
     "name": "stdout",
     "output_type": "stream",
     "text": [
      "CPU times: user 2.04 s, sys: 25.5 ms, total: 2.06 s\n",
      "Wall time: 2.11 s\n"
     ]
    }
   ],
   "source": [
    "%%time\n",
    "model = RF(n_estimators=100)\n",
    "model.fit(x_train, y_train)\n",
    "y_pred = model.predict(x_test)"
   ]
  },
  {
   "cell_type": "code",
   "execution_count": 15,
   "id": "f5ea32e6-0eaa-4831-9bb9-129091d6ba73",
   "metadata": {},
   "outputs": [
    {
     "data": {
      "text/plain": [
       "{'MAE': 84.77, 'RMSE': 116.01, 'MAPE': 34.56}"
      ]
     },
     "execution_count": 15,
     "metadata": {},
     "output_type": "execute_result"
    }
   ],
   "source": [
    "metrics_base = compute_metrics(y_test.values, y_pred)\n",
    "metrics_base"
   ]
  },
  {
   "cell_type": "code",
   "execution_count": 16,
   "id": "1124f411-6f44-454d-9711-49a0cc393751",
   "metadata": {},
   "outputs": [
    {
     "data": {
      "text/plain": [
       "<matplotlib.legend.Legend at 0x10765c4d0>"
      ]
     },
     "execution_count": 16,
     "metadata": {},
     "output_type": "execute_result"
    },
    {
     "data": {
      "image/png": "[encoded data removed]",
      "text/plain": [
       "<Figure size 640x480 with 1 Axes>"
      ]
     },
     "metadata": {},
     "output_type": "display_data"
    }
   ],
   "source": [
    "n = 300\n",
    "plt.plot(y_test.values[:n], label='y_test')\n",
    "plt.plot(y_pred[:n], label='y_pred')\n",
    "plt.legend()"
   ]
  },
  {
   "cell_type": "markdown",
   "id": "5db0901c-3f3d-46a9-95e4-24777341c2eb",
   "metadata": {},
   "source": [
    "**Observations**\n",
    "\n",
    "- We see that values below 200 are well predicted\n",
    "- We see that the peaks are significantly underpredicted."
   ]
  },
  {
   "cell_type": "markdown",
   "id": "b4429ccd-c399-4d24-8e0d-768811c11eaa",
   "metadata": {},
   "source": [
    "**Dummy model**\n",
    "\n",
    "A dummy model is the model that tells that the next target value is the same as the previous value."
   ]
  },
  {
   "cell_type": "code",
   "execution_count": 17,
   "id": "b60df1fd-413e-4a29-9143-146c39c7f637",
   "metadata": {},
   "outputs": [],
   "source": [
    "y_dummy = y_test.shift(1).fillna(method='bfill')\n",
    "metrics_dummy = compute_metrics(y_test.values, y_dummy)"
   ]
  },
  {
   "cell_type": "code",
   "execution_count": 18,
   "id": "6592593a-3e78-4560-82c9-aed4dad85ac8",
   "metadata": {},
   "outputs": [
    {
     "name": "stdout",
     "output_type": "stream",
     "text": [
      "Dummy model scores: {'MAE': 87.01, 'RMSE': 128.17, 'MAPE': 55.4}\n",
      "Baseline model scores: {'MAE': 84.77, 'RMSE': 116.01, 'MAPE': 34.56}\n"
     ]
    }
   ],
   "source": [
    "print('Dummy model scores:', metrics_dummy)\n",
    "print('Baseline model scores:', metrics_base)"
   ]
  },
  {
   "cell_type": "markdown",
   "id": "b821a860-138c-467b-a60e-8befb2e83207",
   "metadata": {},
   "source": [
    "We see that our Baseline Model does not do much better that the dummy model\n",
    "\n",
    "We see that only the MAPE metrics decreased quite well, while the other two are not, especially MAE.\n",
    "\n",
    "This gives the conclusion that some feature engineering is definteily required."
   ]
  },
  {
   "cell_type": "markdown",
   "id": "a02f3d9c-9f91-44b0-858e-522e94d1cb9d",
   "metadata": {},
   "source": [
    "# Baseline Model with Target Lag Features"
   ]
  },
  {
   "cell_type": "markdown",
   "id": "ceb546ea-a85c-4b30-9a1c-2568f7f30882",
   "metadata": {},
   "source": [
    "A good idea is to add the lagged values of the target because we assume it's goona be available by the time we make the predictions for the next hour.\n",
    "\n",
    "To understand how many lagged features we need, let's compute autocorrelation for the target."
   ]
  },
  {
   "cell_type": "code",
   "execution_count": 20,
   "id": "ce500b3f-635f-4065-9cd1-17f8fa2c17dd",
   "metadata": {},
   "outputs": [
    {
     "name": "stdout",
     "output_type": "stream",
     "text": [
      "Lag 1: 0.845\n",
      "Lag 2: 0.597\n",
      "Lag 3: 0.407\n",
      "Lag 4: 0.274\n",
      "Lag 5: 0.146\n",
      "Lag 6: 0.010\n",
      "Lag 7: -0.094\n",
      "Lag 8: -0.114\n",
      "Lag 9: -0.058\n",
      "Lag 10: -0.049\n",
      "Lag 11: -0.100\n",
      "Lag 12: -0.131\n",
      "Lag 13: -0.105\n",
      "Lag 14: -0.057\n",
      "Lag 15: -0.058\n",
      "Lag 16: -0.094\n",
      "Lag 17: -0.065\n",
      "Lag 18: 0.033\n",
      "Lag 19: 0.153\n",
      "Lag 20: 0.262\n",
      "Lag 21: 0.371\n",
      "Lag 22: 0.520\n",
      "Lag 23: 0.705\n",
      "Lag 24: 0.809\n"
     ]
    }
   ],
   "source": [
    "# Let's compute autocorrelation\n",
    "for lag in range(1, 25):\n",
    "    print(f\"Lag {lag}: {df['target'].autocorr(lag=lag):.3f}\")"
   ]
  },
  {
   "cell_type": "markdown",
   "id": "216e8077-604d-4498-bee2-b148fa292126",
   "metadata": {},
   "source": [
    "We see that the autocrrelations are high for the first and last 3 values that indicates a strong daily seasonality.\n",
    "\n",
    "Let's add this lags."
   ]
  },
  {
   "cell_type": "markdown",
   "id": "a8b406ff-5be6-4fb0-b86e-d94c3feae498",
   "metadata": {},
   "source": [
    "When the model to be run in production, from the pipeline perspective, it's better to have the 'cnt' column back and take the lags relative to it to avoid confusion."
   ]
  },
  {
   "cell_type": "code",
   "execution_count": 21,
   "id": "95bd2b85-acf5-4181-aff9-d1be0d5de41b",
   "metadata": {},
   "outputs": [
    {
     "data": {
      "text/html": [
       "<div>\n",
       "<style scoped>\n",
       "    .dataframe tbody tr th:only-of-type {\n",
       "        vertical-align: middle;\n",
       "    }\n",
       "\n",
       "    .dataframe tbody tr th {\n",
       "        vertical-align: top;\n",
       "    }\n",
       "\n",
       "    .dataframe thead th {\n",
       "        text-align: right;\n",
       "    }\n",
       "</style>\n",
       "<table border=\"1\" class=\"dataframe\">\n",
       "  <thead>\n",
       "    <tr style=\"text-align: right;\">\n",
       "      <th></th>\n",
       "      <th>season</th>\n",
       "      <th>mnth</th>\n",
       "      <th>hr</th>\n",
       "      <th>holiday</th>\n",
       "      <th>weekday</th>\n",
       "      <th>workingday</th>\n",
       "      <th>weathersit</th>\n",
       "      <th>temp</th>\n",
       "      <th>atemp</th>\n",
       "      <th>hum</th>\n",
       "      <th>windspeed</th>\n",
       "      <th>cnt</th>\n",
       "      <th>target</th>\n",
       "    </tr>\n",
       "  </thead>\n",
       "  <tbody>\n",
       "    <tr>\n",
       "      <th>0</th>\n",
       "      <td>1</td>\n",
       "      <td>1</td>\n",
       "      <td>0</td>\n",
       "      <td>0</td>\n",
       "      <td>6</td>\n",
       "      <td>0</td>\n",
       "      <td>1</td>\n",
       "      <td>0.24</td>\n",
       "      <td>0.2879</td>\n",
       "      <td>0.81</td>\n",
       "      <td>0.0</td>\n",
       "      <td>16</td>\n",
       "      <td>40.0</td>\n",
       "    </tr>\n",
       "    <tr>\n",
       "      <th>1</th>\n",
       "      <td>1</td>\n",
       "      <td>1</td>\n",
       "      <td>1</td>\n",
       "      <td>0</td>\n",
       "      <td>6</td>\n",
       "      <td>0</td>\n",
       "      <td>1</td>\n",
       "      <td>0.22</td>\n",
       "      <td>0.2727</td>\n",
       "      <td>0.80</td>\n",
       "      <td>0.0</td>\n",
       "      <td>40</td>\n",
       "      <td>32.0</td>\n",
       "    </tr>\n",
       "    <tr>\n",
       "      <th>2</th>\n",
       "      <td>1</td>\n",
       "      <td>1</td>\n",
       "      <td>2</td>\n",
       "      <td>0</td>\n",
       "      <td>6</td>\n",
       "      <td>0</td>\n",
       "      <td>1</td>\n",
       "      <td>0.22</td>\n",
       "      <td>0.2727</td>\n",
       "      <td>0.80</td>\n",
       "      <td>0.0</td>\n",
       "      <td>32</td>\n",
       "      <td>13.0</td>\n",
       "    </tr>\n",
       "  </tbody>\n",
       "</table>\n",
       "</div>"
      ],
      "text/plain": [
       "   season  mnth  hr  holiday  weekday  workingday  weathersit  temp   atemp  \\\n",
       "0       1     1   0        0        6           0           1  0.24  0.2879   \n",
       "1       1     1   1        0        6           0           1  0.22  0.2727   \n",
       "2       1     1   2        0        6           0           1  0.22  0.2727   \n",
       "\n",
       "    hum  windspeed  cnt  target  \n",
       "0  0.81        0.0   16    40.0  \n",
       "1  0.80        0.0   40    32.0  \n",
       "2  0.80        0.0   32    13.0  "
      ]
     },
     "execution_count": 21,
     "metadata": {},
     "output_type": "execute_result"
    }
   ],
   "source": [
    "df = data.copy()\n",
    "df['target'] = df['cnt'].shift(-1).fillna(method='ffill')\n",
    "df.head(3)"
   ]
  },
  {
   "cell_type": "markdown",
   "id": "a53f5246-7d52-46e3-b7d1-62ae53f08b32",
   "metadata": {},
   "source": [
    "The 'cnt' column is alread 1 lag behind the target, so we need to make shifts of the 'cnt' column from 1 to 2 and from 22 to 23."
   ]
  },
  {
   "cell_type": "code",
   "execution_count": 22,
   "id": "962ef977-36a5-4391-8f86-e673ce44020f",
   "metadata": {},
   "outputs": [],
   "source": [
    "# Add first 2 lags\n",
    "for i in range(1, 3):\n",
    "    df[f'cnt_lag_{i}'] = df['cnt'].shift(i).fillna(method='bfill')\n",
    "\n",
    "# Add last 2 lags\n",
    "for i in range(22, 24):\n",
    "    df[f'cnt_lag_{i}'] = df['cnt'].shift(i).fillna(method='bfill')"
   ]
  },
  {
   "cell_type": "code",
   "execution_count": 24,
   "id": "b135efb3-9b4d-40bf-86a8-153a24470893",
   "metadata": {},
   "outputs": [
    {
     "data": {
      "text/html": [
       "<div>\n",
       "<style scoped>\n",
       "    .dataframe tbody tr th:only-of-type {\n",
       "        vertical-align: middle;\n",
       "    }\n",
       "\n",
       "    .dataframe tbody tr th {\n",
       "        vertical-align: top;\n",
       "    }\n",
       "\n",
       "    .dataframe thead th {\n",
       "        text-align: right;\n",
       "    }\n",
       "</style>\n",
       "<table border=\"1\" class=\"dataframe\">\n",
       "  <thead>\n",
       "    <tr style=\"text-align: right;\">\n",
       "      <th></th>\n",
       "      <th>season</th>\n",
       "      <th>mnth</th>\n",
       "      <th>hr</th>\n",
       "      <th>holiday</th>\n",
       "      <th>weekday</th>\n",
       "      <th>workingday</th>\n",
       "      <th>weathersit</th>\n",
       "      <th>temp</th>\n",
       "      <th>atemp</th>\n",
       "      <th>hum</th>\n",
       "      <th>windspeed</th>\n",
       "      <th>cnt</th>\n",
       "      <th>target</th>\n",
       "      <th>cnt_lag_1</th>\n",
       "      <th>cnt_lag_2</th>\n",
       "      <th>cnt_lag_22</th>\n",
       "      <th>cnt_lag_23</th>\n",
       "    </tr>\n",
       "  </thead>\n",
       "  <tbody>\n",
       "    <tr>\n",
       "      <th>0</th>\n",
       "      <td>1</td>\n",
       "      <td>1</td>\n",
       "      <td>0</td>\n",
       "      <td>0</td>\n",
       "      <td>6</td>\n",
       "      <td>0</td>\n",
       "      <td>1</td>\n",
       "      <td>0.24</td>\n",
       "      <td>0.2879</td>\n",
       "      <td>0.81</td>\n",
       "      <td>0.0</td>\n",
       "      <td>16</td>\n",
       "      <td>40.0</td>\n",
       "      <td>16.0</td>\n",
       "      <td>16.0</td>\n",
       "      <td>16.0</td>\n",
       "      <td>16.0</td>\n",
       "    </tr>\n",
       "    <tr>\n",
       "      <th>1</th>\n",
       "      <td>1</td>\n",
       "      <td>1</td>\n",
       "      <td>1</td>\n",
       "      <td>0</td>\n",
       "      <td>6</td>\n",
       "      <td>0</td>\n",
       "      <td>1</td>\n",
       "      <td>0.22</td>\n",
       "      <td>0.2727</td>\n",
       "      <td>0.80</td>\n",
       "      <td>0.0</td>\n",
       "      <td>40</td>\n",
       "      <td>32.0</td>\n",
       "      <td>16.0</td>\n",
       "      <td>16.0</td>\n",
       "      <td>16.0</td>\n",
       "      <td>16.0</td>\n",
       "    </tr>\n",
       "    <tr>\n",
       "      <th>2</th>\n",
       "      <td>1</td>\n",
       "      <td>1</td>\n",
       "      <td>2</td>\n",
       "      <td>0</td>\n",
       "      <td>6</td>\n",
       "      <td>0</td>\n",
       "      <td>1</td>\n",
       "      <td>0.22</td>\n",
       "      <td>0.2727</td>\n",
       "      <td>0.80</td>\n",
       "      <td>0.0</td>\n",
       "      <td>32</td>\n",
       "      <td>13.0</td>\n",
       "      <td>40.0</td>\n",
       "      <td>16.0</td>\n",
       "      <td>16.0</td>\n",
       "      <td>16.0</td>\n",
       "    </tr>\n",
       "  </tbody>\n",
       "</table>\n",
       "</div>"
      ],
      "text/plain": [
       "   season  mnth  hr  holiday  weekday  workingday  weathersit  temp   atemp  \\\n",
       "0       1     1   0        0        6           0           1  0.24  0.2879   \n",
       "1       1     1   1        0        6           0           1  0.22  0.2727   \n",
       "2       1     1   2        0        6           0           1  0.22  0.2727   \n",
       "\n",
       "    hum  windspeed  cnt  target  cnt_lag_1  cnt_lag_2  cnt_lag_22  cnt_lag_23  \n",
       "0  0.81        0.0   16    40.0       16.0       16.0        16.0        16.0  \n",
       "1  0.80        0.0   40    32.0       16.0       16.0        16.0        16.0  \n",
       "2  0.80        0.0   32    13.0       40.0       16.0        16.0        16.0  "
      ]
     },
     "execution_count": 24,
     "metadata": {},
     "output_type": "execute_result"
    }
   ],
   "source": [
    "df.head(3)"
   ]
  },
  {
   "cell_type": "markdown",
   "id": "0effd19e-8362-471d-886a-bbf3a6da58ef",
   "metadata": {},
   "source": [
    "Let's see if this helps the model"
   ]
  },
  {
   "cell_type": "code",
   "execution_count": 25,
   "id": "7a1e62d0-0c85-4ba9-b3e1-83107df558bc",
   "metadata": {},
   "outputs": [],
   "source": [
    "x_train, x_test, y_train, y_test = prepare_dataset(df, train_fraction=0.8)"
   ]
  },
  {
   "cell_type": "code",
   "execution_count": 26,
   "id": "d0b75fb2-92de-4169-a7c5-7b09f7d74d2a",
   "metadata": {},
   "outputs": [
    {
     "data": {
      "text/html": [
       "<div>\n",
       "<style scoped>\n",
       "    .dataframe tbody tr th:only-of-type {\n",
       "        vertical-align: middle;\n",
       "    }\n",
       "\n",
       "    .dataframe tbody tr th {\n",
       "        vertical-align: top;\n",
       "    }\n",
       "\n",
       "    .dataframe thead th {\n",
       "        text-align: right;\n",
       "    }\n",
       "</style>\n",
       "<table border=\"1\" class=\"dataframe\">\n",
       "  <thead>\n",
       "    <tr style=\"text-align: right;\">\n",
       "      <th></th>\n",
       "      <th>season</th>\n",
       "      <th>mnth</th>\n",
       "      <th>hr</th>\n",
       "      <th>holiday</th>\n",
       "      <th>weekday</th>\n",
       "      <th>workingday</th>\n",
       "      <th>weathersit</th>\n",
       "      <th>temp</th>\n",
       "      <th>atemp</th>\n",
       "      <th>hum</th>\n",
       "      <th>windspeed</th>\n",
       "      <th>cnt</th>\n",
       "      <th>cnt_lag_1</th>\n",
       "      <th>cnt_lag_2</th>\n",
       "      <th>cnt_lag_22</th>\n",
       "      <th>cnt_lag_23</th>\n",
       "    </tr>\n",
       "  </thead>\n",
       "  <tbody>\n",
       "    <tr>\n",
       "      <th>0</th>\n",
       "      <td>1</td>\n",
       "      <td>1</td>\n",
       "      <td>0</td>\n",
       "      <td>0</td>\n",
       "      <td>6</td>\n",
       "      <td>0</td>\n",
       "      <td>1</td>\n",
       "      <td>0.24</td>\n",
       "      <td>0.2879</td>\n",
       "      <td>0.81</td>\n",
       "      <td>0.0000</td>\n",
       "      <td>16</td>\n",
       "      <td>16.0</td>\n",
       "      <td>16.0</td>\n",
       "      <td>16.0</td>\n",
       "      <td>16.0</td>\n",
       "    </tr>\n",
       "    <tr>\n",
       "      <th>1</th>\n",
       "      <td>1</td>\n",
       "      <td>1</td>\n",
       "      <td>1</td>\n",
       "      <td>0</td>\n",
       "      <td>6</td>\n",
       "      <td>0</td>\n",
       "      <td>1</td>\n",
       "      <td>0.22</td>\n",
       "      <td>0.2727</td>\n",
       "      <td>0.80</td>\n",
       "      <td>0.0000</td>\n",
       "      <td>40</td>\n",
       "      <td>16.0</td>\n",
       "      <td>16.0</td>\n",
       "      <td>16.0</td>\n",
       "      <td>16.0</td>\n",
       "    </tr>\n",
       "    <tr>\n",
       "      <th>2</th>\n",
       "      <td>1</td>\n",
       "      <td>1</td>\n",
       "      <td>2</td>\n",
       "      <td>0</td>\n",
       "      <td>6</td>\n",
       "      <td>0</td>\n",
       "      <td>1</td>\n",
       "      <td>0.22</td>\n",
       "      <td>0.2727</td>\n",
       "      <td>0.80</td>\n",
       "      <td>0.0000</td>\n",
       "      <td>32</td>\n",
       "      <td>40.0</td>\n",
       "      <td>16.0</td>\n",
       "      <td>16.0</td>\n",
       "      <td>16.0</td>\n",
       "    </tr>\n",
       "    <tr>\n",
       "      <th>3</th>\n",
       "      <td>1</td>\n",
       "      <td>1</td>\n",
       "      <td>3</td>\n",
       "      <td>0</td>\n",
       "      <td>6</td>\n",
       "      <td>0</td>\n",
       "      <td>1</td>\n",
       "      <td>0.24</td>\n",
       "      <td>0.2879</td>\n",
       "      <td>0.75</td>\n",
       "      <td>0.0000</td>\n",
       "      <td>13</td>\n",
       "      <td>32.0</td>\n",
       "      <td>40.0</td>\n",
       "      <td>16.0</td>\n",
       "      <td>16.0</td>\n",
       "    </tr>\n",
       "    <tr>\n",
       "      <th>4</th>\n",
       "      <td>1</td>\n",
       "      <td>1</td>\n",
       "      <td>4</td>\n",
       "      <td>0</td>\n",
       "      <td>6</td>\n",
       "      <td>0</td>\n",
       "      <td>1</td>\n",
       "      <td>0.24</td>\n",
       "      <td>0.2879</td>\n",
       "      <td>0.75</td>\n",
       "      <td>0.0000</td>\n",
       "      <td>1</td>\n",
       "      <td>13.0</td>\n",
       "      <td>32.0</td>\n",
       "      <td>16.0</td>\n",
       "      <td>16.0</td>\n",
       "    </tr>\n",
       "    <tr>\n",
       "      <th>...</th>\n",
       "      <td>...</td>\n",
       "      <td>...</td>\n",
       "      <td>...</td>\n",
       "      <td>...</td>\n",
       "      <td>...</td>\n",
       "      <td>...</td>\n",
       "      <td>...</td>\n",
       "      <td>...</td>\n",
       "      <td>...</td>\n",
       "      <td>...</td>\n",
       "      <td>...</td>\n",
       "      <td>...</td>\n",
       "      <td>...</td>\n",
       "      <td>...</td>\n",
       "      <td>...</td>\n",
       "      <td>...</td>\n",
       "    </tr>\n",
       "    <tr>\n",
       "      <th>11117</th>\n",
       "      <td>2</td>\n",
       "      <td>4</td>\n",
       "      <td>10</td>\n",
       "      <td>0</td>\n",
       "      <td>5</td>\n",
       "      <td>1</td>\n",
       "      <td>1</td>\n",
       "      <td>0.44</td>\n",
       "      <td>0.4394</td>\n",
       "      <td>0.38</td>\n",
       "      <td>0.1940</td>\n",
       "      <td>192</td>\n",
       "      <td>330.0</td>\n",
       "      <td>563.0</td>\n",
       "      <td>259.0</td>\n",
       "      <td>224.0</td>\n",
       "    </tr>\n",
       "    <tr>\n",
       "      <th>11118</th>\n",
       "      <td>2</td>\n",
       "      <td>4</td>\n",
       "      <td>11</td>\n",
       "      <td>0</td>\n",
       "      <td>5</td>\n",
       "      <td>1</td>\n",
       "      <td>1</td>\n",
       "      <td>0.46</td>\n",
       "      <td>0.4545</td>\n",
       "      <td>0.36</td>\n",
       "      <td>0.1343</td>\n",
       "      <td>233</td>\n",
       "      <td>192.0</td>\n",
       "      <td>330.0</td>\n",
       "      <td>203.0</td>\n",
       "      <td>259.0</td>\n",
       "    </tr>\n",
       "    <tr>\n",
       "      <th>11119</th>\n",
       "      <td>2</td>\n",
       "      <td>4</td>\n",
       "      <td>12</td>\n",
       "      <td>0</td>\n",
       "      <td>5</td>\n",
       "      <td>1</td>\n",
       "      <td>1</td>\n",
       "      <td>0.50</td>\n",
       "      <td>0.4848</td>\n",
       "      <td>0.31</td>\n",
       "      <td>0.0000</td>\n",
       "      <td>322</td>\n",
       "      <td>233.0</td>\n",
       "      <td>192.0</td>\n",
       "      <td>224.0</td>\n",
       "      <td>203.0</td>\n",
       "    </tr>\n",
       "    <tr>\n",
       "      <th>11120</th>\n",
       "      <td>2</td>\n",
       "      <td>4</td>\n",
       "      <td>13</td>\n",
       "      <td>0</td>\n",
       "      <td>5</td>\n",
       "      <td>1</td>\n",
       "      <td>1</td>\n",
       "      <td>0.52</td>\n",
       "      <td>0.5000</td>\n",
       "      <td>0.27</td>\n",
       "      <td>0.2836</td>\n",
       "      <td>358</td>\n",
       "      <td>322.0</td>\n",
       "      <td>233.0</td>\n",
       "      <td>211.0</td>\n",
       "      <td>224.0</td>\n",
       "    </tr>\n",
       "    <tr>\n",
       "      <th>11121</th>\n",
       "      <td>2</td>\n",
       "      <td>4</td>\n",
       "      <td>14</td>\n",
       "      <td>0</td>\n",
       "      <td>5</td>\n",
       "      <td>1</td>\n",
       "      <td>1</td>\n",
       "      <td>0.52</td>\n",
       "      <td>0.5000</td>\n",
       "      <td>0.27</td>\n",
       "      <td>0.0000</td>\n",
       "      <td>348</td>\n",
       "      <td>358.0</td>\n",
       "      <td>322.0</td>\n",
       "      <td>353.0</td>\n",
       "      <td>211.0</td>\n",
       "    </tr>\n",
       "  </tbody>\n",
       "</table>\n",
       "<p>11122 rows × 16 columns</p>\n",
       "</div>"
      ],
      "text/plain": [
       "       season  mnth  hr  holiday  weekday  workingday  weathersit  temp  \\\n",
       "0           1     1   0        0        6           0           1  0.24   \n",
       "1           1     1   1        0        6           0           1  0.22   \n",
       "2           1     1   2        0        6           0           1  0.22   \n",
       "3           1     1   3        0        6           0           1  0.24   \n",
       "4           1     1   4        0        6           0           1  0.24   \n",
       "...       ...   ...  ..      ...      ...         ...         ...   ...   \n",
       "11117       2     4  10        0        5           1           1  0.44   \n",
       "11118       2     4  11        0        5           1           1  0.46   \n",
       "11119       2     4  12        0        5           1           1  0.50   \n",
       "11120       2     4  13        0        5           1           1  0.52   \n",
       "11121       2     4  14        0        5           1           1  0.52   \n",
       "\n",
       "        atemp   hum  windspeed  cnt  cnt_lag_1  cnt_lag_2  cnt_lag_22  \\\n",
       "0      0.2879  0.81     0.0000   16       16.0       16.0        16.0   \n",
       "1      0.2727  0.80     0.0000   40       16.0       16.0        16.0   \n",
       "2      0.2727  0.80     0.0000   32       40.0       16.0        16.0   \n",
       "3      0.2879  0.75     0.0000   13       32.0       40.0        16.0   \n",
       "4      0.2879  0.75     0.0000    1       13.0       32.0        16.0   \n",
       "...       ...   ...        ...  ...        ...        ...         ...   \n",
       "11117  0.4394  0.38     0.1940  192      330.0      563.0       259.0   \n",
       "11118  0.4545  0.36     0.1343  233      192.0      330.0       203.0   \n",
       "11119  0.4848  0.31     0.0000  322      233.0      192.0       224.0   \n",
       "11120  0.5000  0.27     0.2836  358      322.0      233.0       211.0   \n",
       "11121  0.5000  0.27     0.0000  348      358.0      322.0       353.0   \n",
       "\n",
       "       cnt_lag_23  \n",
       "0            16.0  \n",
       "1            16.0  \n",
       "2            16.0  \n",
       "3            16.0  \n",
       "4            16.0  \n",
       "...           ...  \n",
       "11117       224.0  \n",
       "11118       259.0  \n",
       "11119       203.0  \n",
       "11120       224.0  \n",
       "11121       211.0  \n",
       "\n",
       "[11122 rows x 16 columns]"
      ]
     },
     "execution_count": 26,
     "metadata": {},
     "output_type": "execute_result"
    }
   ],
   "source": [
    "x_train"
   ]
  },
  {
   "cell_type": "code",
   "execution_count": 27,
   "id": "fb62474f-04ee-48ac-9b60-61a24bd579f2",
   "metadata": {},
   "outputs": [],
   "source": [
    "model = RF(n_estimators=100)\n",
    "model.fit(x_train, y_train)\n",
    "y_pred = model.predict(x_test)"
   ]
  },
  {
   "cell_type": "code",
   "execution_count": 28,
   "id": "96bf0261-b433-412b-b575-4b11a5f20c4d",
   "metadata": {},
   "outputs": [
    {
     "data": {
      "text/plain": [
       "{'MAE': 43.72, 'RMSE': 71.38, 'MAPE': 24.71}"
      ]
     },
     "execution_count": 28,
     "metadata": {},
     "output_type": "execute_result"
    }
   ],
   "source": [
    "metrics_target_lag = compute_metrics(y_test.values, y_pred)\n",
    "metrics_target_lag"
   ]
  },
  {
   "cell_type": "code",
   "execution_count": 29,
   "id": "99e2d572-e026-42ab-8aaa-a852ca323539",
   "metadata": {},
   "outputs": [
    {
     "name": "stdout",
     "output_type": "stream",
     "text": [
      "Baseline model scores: {'MAE': 84.77, 'RMSE': 116.01, 'MAPE': 34.56}\n",
      "Baseline model with target lags scores: {'MAE': 43.72, 'RMSE': 71.38, 'MAPE': 24.71}\n"
     ]
    }
   ],
   "source": [
    "print('Baseline model scores:', metrics_base)\n",
    "print('Baseline model with target lags scores:', metrics_target_lag)"
   ]
  },
  {
   "cell_type": "code",
   "execution_count": 75,
   "id": "f97074d7-f140-42c1-a792-004aa323f182",
   "metadata": {},
   "outputs": [
    {
     "data": {
      "text/plain": [
       "<matplotlib.legend.Legend at 0x32ff32d10>"
      ]
     },
     "execution_count": 75,
     "metadata": {},
     "output_type": "execute_result"
    },
    {
     "data": {
      "image/png": "[encoded data removed]",
      "text/plain": [
       "<Figure size 640x480 with 1 Axes>"
      ]
     },
     "metadata": {},
     "output_type": "display_data"
    }
   ],
   "source": [
    "n = 300\n",
    "plt.plot(y_test.values[:n], label='y_test')\n",
    "plt.plot(y_pred[:n], label='y_pred')\n",
    "plt.legend()"
   ]
  },
  {
   "cell_type": "markdown",
   "id": "b7073fb9-f2dc-46da-b1aa-1ace7cab56b5",
   "metadata": {},
   "source": [
    "Now we see a significant imporvement.\n",
    "\n",
    "We clearly see that the peaks now are better captured."
   ]
  },
  {
   "cell_type": "markdown",
   "id": "3f295fa2-5aa7-44c9-8bd3-78b11a73bb1a",
   "metadata": {},
   "source": [
    "# Baseline Model with All Lag Features"
   ]
  },
  {
   "cell_type": "markdown",
   "id": "859cabd4-cc2a-4c3d-9eca-5c78f8a147b6",
   "metadata": {},
   "source": [
    "Let's add the lag features for other features, not only for the target.\n",
    "\n",
    "We will add only the first 3 lags, you can experiment with different lags and see the performance"
   ]
  },
  {
   "cell_type": "code",
   "execution_count": 55,
   "id": "b53bf00f-838a-4a8e-8be4-aa36e860c2d5",
   "metadata": {},
   "outputs": [
    {
     "data": {
      "text/plain": [
       "Index(['season', 'mnth', 'hr', 'holiday', 'weekday', 'workingday',\n",
       "       'weathersit', 'temp', 'atemp', 'hum', 'windspeed', 'cnt', 'target',\n",
       "       'cnt_lag_1', 'cnt_lag_2', 'cnt_lag_22', 'cnt_lag_23', 'hr_lag_1',\n",
       "       'hr_lag_2', 'hr_lag_3', 'weekday_lag_1', 'weekday_lag_2',\n",
       "       'weekday_lag_3', 'weathersit_lag_1', 'weathersit_lag_2',\n",
       "       'weathersit_lag_3', 'temp_lag_1', 'temp_lag_2', 'temp_lag_3',\n",
       "       'hum_lag_1', 'hum_lag_2', 'hum_lag_3'],\n",
       "      dtype='object')"
      ]
     },
     "execution_count": 55,
     "metadata": {},
     "output_type": "execute_result"
    }
   ],
   "source": [
    "df.columns"
   ]
  },
  {
   "cell_type": "code",
   "execution_count": 56,
   "id": "26c5667e-ce39-48f8-806b-57386f1029c2",
   "metadata": {},
   "outputs": [],
   "source": [
    "lag_feats = ['hr', 'weekday', 'weathersit', 'temp', 'hum']\n",
    "\n",
    "n = 3\n",
    "for feat in lag_feats:\n",
    "    for i in range(1, n+1):\n",
    "        df[f'{feat}_lag_{i}'] = df[feat].shift(i).fillna(method='bfill')"
   ]
  },
  {
   "cell_type": "code",
   "execution_count": 57,
   "id": "bc27bf7f-30a7-425a-b1fa-3a642ba09402",
   "metadata": {},
   "outputs": [],
   "source": [
    "x_train, x_test, y_train, y_test = prepare_dataset(df, train_fraction=0.8)"
   ]
  },
  {
   "cell_type": "code",
   "execution_count": 58,
   "id": "572fb503-43af-4d41-969f-59d2863ce5ab",
   "metadata": {},
   "outputs": [
    {
     "data": {
      "text/html": [
       "<div>\n",
       "<style scoped>\n",
       "    .dataframe tbody tr th:only-of-type {\n",
       "        vertical-align: middle;\n",
       "    }\n",
       "\n",
       "    .dataframe tbody tr th {\n",
       "        vertical-align: top;\n",
       "    }\n",
       "\n",
       "    .dataframe thead th {\n",
       "        text-align: right;\n",
       "    }\n",
       "</style>\n",
       "<table border=\"1\" class=\"dataframe\">\n",
       "  <thead>\n",
       "    <tr style=\"text-align: right;\">\n",
       "      <th></th>\n",
       "      <th>season</th>\n",
       "      <th>mnth</th>\n",
       "      <th>hr</th>\n",
       "      <th>holiday</th>\n",
       "      <th>weekday</th>\n",
       "      <th>workingday</th>\n",
       "      <th>weathersit</th>\n",
       "      <th>temp</th>\n",
       "      <th>atemp</th>\n",
       "      <th>hum</th>\n",
       "      <th>...</th>\n",
       "      <th>weekday_lag_3</th>\n",
       "      <th>weathersit_lag_1</th>\n",
       "      <th>weathersit_lag_2</th>\n",
       "      <th>weathersit_lag_3</th>\n",
       "      <th>temp_lag_1</th>\n",
       "      <th>temp_lag_2</th>\n",
       "      <th>temp_lag_3</th>\n",
       "      <th>hum_lag_1</th>\n",
       "      <th>hum_lag_2</th>\n",
       "      <th>hum_lag_3</th>\n",
       "    </tr>\n",
       "  </thead>\n",
       "  <tbody>\n",
       "    <tr>\n",
       "      <th>0</th>\n",
       "      <td>1</td>\n",
       "      <td>1</td>\n",
       "      <td>0</td>\n",
       "      <td>0</td>\n",
       "      <td>6</td>\n",
       "      <td>0</td>\n",
       "      <td>1</td>\n",
       "      <td>0.24</td>\n",
       "      <td>0.2879</td>\n",
       "      <td>0.81</td>\n",
       "      <td>...</td>\n",
       "      <td>6.0</td>\n",
       "      <td>1.0</td>\n",
       "      <td>1.0</td>\n",
       "      <td>1.0</td>\n",
       "      <td>0.24</td>\n",
       "      <td>0.24</td>\n",
       "      <td>0.24</td>\n",
       "      <td>0.81</td>\n",
       "      <td>0.81</td>\n",
       "      <td>0.81</td>\n",
       "    </tr>\n",
       "    <tr>\n",
       "      <th>1</th>\n",
       "      <td>1</td>\n",
       "      <td>1</td>\n",
       "      <td>1</td>\n",
       "      <td>0</td>\n",
       "      <td>6</td>\n",
       "      <td>0</td>\n",
       "      <td>1</td>\n",
       "      <td>0.22</td>\n",
       "      <td>0.2727</td>\n",
       "      <td>0.80</td>\n",
       "      <td>...</td>\n",
       "      <td>6.0</td>\n",
       "      <td>1.0</td>\n",
       "      <td>1.0</td>\n",
       "      <td>1.0</td>\n",
       "      <td>0.24</td>\n",
       "      <td>0.24</td>\n",
       "      <td>0.24</td>\n",
       "      <td>0.81</td>\n",
       "      <td>0.81</td>\n",
       "      <td>0.81</td>\n",
       "    </tr>\n",
       "    <tr>\n",
       "      <th>2</th>\n",
       "      <td>1</td>\n",
       "      <td>1</td>\n",
       "      <td>2</td>\n",
       "      <td>0</td>\n",
       "      <td>6</td>\n",
       "      <td>0</td>\n",
       "      <td>1</td>\n",
       "      <td>0.22</td>\n",
       "      <td>0.2727</td>\n",
       "      <td>0.80</td>\n",
       "      <td>...</td>\n",
       "      <td>6.0</td>\n",
       "      <td>1.0</td>\n",
       "      <td>1.0</td>\n",
       "      <td>1.0</td>\n",
       "      <td>0.22</td>\n",
       "      <td>0.24</td>\n",
       "      <td>0.24</td>\n",
       "      <td>0.80</td>\n",
       "      <td>0.81</td>\n",
       "      <td>0.81</td>\n",
       "    </tr>\n",
       "  </tbody>\n",
       "</table>\n",
       "<p>3 rows × 31 columns</p>\n",
       "</div>"
      ],
      "text/plain": [
       "   season  mnth  hr  holiday  weekday  workingday  weathersit  temp   atemp  \\\n",
       "0       1     1   0        0        6           0           1  0.24  0.2879   \n",
       "1       1     1   1        0        6           0           1  0.22  0.2727   \n",
       "2       1     1   2        0        6           0           1  0.22  0.2727   \n",
       "\n",
       "    hum  ...  weekday_lag_3  weathersit_lag_1  weathersit_lag_2  \\\n",
       "0  0.81  ...            6.0               1.0               1.0   \n",
       "1  0.80  ...            6.0               1.0               1.0   \n",
       "2  0.80  ...            6.0               1.0               1.0   \n",
       "\n",
       "   weathersit_lag_3  temp_lag_1  temp_lag_2  temp_lag_3  hum_lag_1  hum_lag_2  \\\n",
       "0               1.0        0.24        0.24        0.24       0.81       0.81   \n",
       "1               1.0        0.24        0.24        0.24       0.81       0.81   \n",
       "2               1.0        0.22        0.24        0.24       0.80       0.81   \n",
       "\n",
       "   hum_lag_3  \n",
       "0       0.81  \n",
       "1       0.81  \n",
       "2       0.81  \n",
       "\n",
       "[3 rows x 31 columns]"
      ]
     },
     "execution_count": 58,
     "metadata": {},
     "output_type": "execute_result"
    }
   ],
   "source": [
    "x_train.head(3)"
   ]
  },
  {
   "cell_type": "code",
   "execution_count": 59,
   "id": "3fe114c5-9f38-4eda-b281-04ddfdc565a3",
   "metadata": {},
   "outputs": [
    {
     "data": {
      "text/plain": [
       "Index(['season', 'mnth', 'hr', 'holiday', 'weekday', 'workingday',\n",
       "       'weathersit', 'temp', 'atemp', 'hum', 'windspeed', 'cnt', 'cnt_lag_1',\n",
       "       'cnt_lag_2', 'cnt_lag_22', 'cnt_lag_23', 'hr_lag_1', 'hr_lag_2',\n",
       "       'hr_lag_3', 'weekday_lag_1', 'weekday_lag_2', 'weekday_lag_3',\n",
       "       'weathersit_lag_1', 'weathersit_lag_2', 'weathersit_lag_3',\n",
       "       'temp_lag_1', 'temp_lag_2', 'temp_lag_3', 'hum_lag_1', 'hum_lag_2',\n",
       "       'hum_lag_3'],\n",
       "      dtype='object')"
      ]
     },
     "execution_count": 59,
     "metadata": {},
     "output_type": "execute_result"
    }
   ],
   "source": [
    "x_train.columns"
   ]
  },
  {
   "cell_type": "code",
   "execution_count": 60,
   "id": "20954a4e-aa9c-4390-a79b-7cc30c57c588",
   "metadata": {},
   "outputs": [
    {
     "name": "stderr",
     "output_type": "stream",
     "text": [
      "[Parallel(n_jobs=1)]: Done  49 tasks      | elapsed:    3.6s\n"
     ]
    },
    {
     "name": "stdout",
     "output_type": "stream",
     "text": [
      "CPU times: user 7.21 s, sys: 46.8 ms, total: 7.26 s\n",
      "Wall time: 7.38 s\n"
     ]
    },
    {
     "name": "stderr",
     "output_type": "stream",
     "text": [
      "[Parallel(n_jobs=1)]: Done 100 out of 100 | elapsed:    7.3s finished\n",
      "[Parallel(n_jobs=1)]: Done  49 tasks      | elapsed:    0.0s\n",
      "[Parallel(n_jobs=1)]: Done 100 out of 100 | elapsed:    0.0s finished\n"
     ]
    }
   ],
   "source": [
    "%%time\n",
    "np.random.seed(23)\n",
    "model = RF(n_estimators=100, verbose=1)\n",
    "model.fit(x_train, y_train)\n",
    "y_pred = model.predict(x_test)"
   ]
  },
  {
   "cell_type": "code",
   "execution_count": 61,
   "id": "5ad32cca-7da1-4ab1-8cde-3094a6119433",
   "metadata": {},
   "outputs": [
    {
     "data": {
      "text/plain": [
       "{'MAE': 43.42, 'RMSE': 71.27, 'MAPE': 24.19}"
      ]
     },
     "execution_count": 61,
     "metadata": {},
     "output_type": "execute_result"
    }
   ],
   "source": [
    "metrics_all_lags = compute_metrics(y_test.values, y_pred)\n",
    "metrics_all_lags"
   ]
  },
  {
   "cell_type": "code",
   "execution_count": 62,
   "id": "f1a143c5-c63d-4047-9fa6-1a6333763f4f",
   "metadata": {},
   "outputs": [
    {
     "name": "stdout",
     "output_type": "stream",
     "text": [
      "Baseline model scores: {'MAE': 84.77, 'RMSE': 116.01, 'MAPE': 34.56}\n",
      "Baseline model with target lags scores: {'MAE': 43.72, 'RMSE': 71.38, 'MAPE': 24.71}\n",
      "Baseline model with all lags scores: {'MAE': 43.42, 'RMSE': 71.27, 'MAPE': 24.19}\n"
     ]
    }
   ],
   "source": [
    "print('Baseline model scores:', metrics_base)\n",
    "print('Baseline model with target lags scores:', metrics_target_lag)\n",
    "print('Baseline model with all lags scores:', metrics_all_lags)"
   ]
  },
  {
   "cell_type": "markdown",
   "id": "990b3789-ae19-4dac-9180-64ca6f00a514",
   "metadata": {},
   "source": [
    "We see that adding the feature lags futher improved the performance, but the improvement is not that big as before.\n",
    "\n",
    "However, with some basic feature engineering we still able to improve the scores and this we can add to the final production pipeline."
   ]
  },
  {
   "cell_type": "markdown",
   "id": "3a2466c9-7361-44e6-8d19-afcaa3f6bbbc",
   "metadata": {},
   "source": [
    "# Gradient Boosting with Hyperparameters Tuning"
   ]
  },
  {
   "cell_type": "code",
   "execution_count": 63,
   "id": "3a9fe097-eb3b-47dd-824a-33e5c84cf3aa",
   "metadata": {},
   "outputs": [],
   "source": [
    "df.reset_index(drop=True, inplace=True)"
   ]
  },
  {
   "cell_type": "code",
   "execution_count": 64,
   "id": "3098c911-2796-4341-9aa3-622d2eeb20c1",
   "metadata": {},
   "outputs": [],
   "source": [
    "x_train, x_test, y_train, y_test = prepare_dataset(df, train_fraction=0.8)"
   ]
  },
  {
   "cell_type": "code",
   "execution_count": 65,
   "id": "6e9592b0-2569-4d81-9f98-dd1d2b8b4e81",
   "metadata": {},
   "outputs": [
    {
     "data": {
      "text/html": [
       "<div>\n",
       "<style scoped>\n",
       "    .dataframe tbody tr th:only-of-type {\n",
       "        vertical-align: middle;\n",
       "    }\n",
       "\n",
       "    .dataframe tbody tr th {\n",
       "        vertical-align: top;\n",
       "    }\n",
       "\n",
       "    .dataframe thead th {\n",
       "        text-align: right;\n",
       "    }\n",
       "</style>\n",
       "<table border=\"1\" class=\"dataframe\">\n",
       "  <thead>\n",
       "    <tr style=\"text-align: right;\">\n",
       "      <th></th>\n",
       "      <th>season</th>\n",
       "      <th>mnth</th>\n",
       "      <th>hr</th>\n",
       "      <th>holiday</th>\n",
       "      <th>weekday</th>\n",
       "      <th>workingday</th>\n",
       "      <th>weathersit</th>\n",
       "      <th>temp</th>\n",
       "      <th>atemp</th>\n",
       "      <th>hum</th>\n",
       "      <th>...</th>\n",
       "      <th>weekday_lag_3</th>\n",
       "      <th>weathersit_lag_1</th>\n",
       "      <th>weathersit_lag_2</th>\n",
       "      <th>weathersit_lag_3</th>\n",
       "      <th>temp_lag_1</th>\n",
       "      <th>temp_lag_2</th>\n",
       "      <th>temp_lag_3</th>\n",
       "      <th>hum_lag_1</th>\n",
       "      <th>hum_lag_2</th>\n",
       "      <th>hum_lag_3</th>\n",
       "    </tr>\n",
       "  </thead>\n",
       "  <tbody>\n",
       "    <tr>\n",
       "      <th>0</th>\n",
       "      <td>1</td>\n",
       "      <td>1</td>\n",
       "      <td>0</td>\n",
       "      <td>0</td>\n",
       "      <td>6</td>\n",
       "      <td>0</td>\n",
       "      <td>1</td>\n",
       "      <td>0.24</td>\n",
       "      <td>0.2879</td>\n",
       "      <td>0.81</td>\n",
       "      <td>...</td>\n",
       "      <td>6.0</td>\n",
       "      <td>1.0</td>\n",
       "      <td>1.0</td>\n",
       "      <td>1.0</td>\n",
       "      <td>0.24</td>\n",
       "      <td>0.24</td>\n",
       "      <td>0.24</td>\n",
       "      <td>0.81</td>\n",
       "      <td>0.81</td>\n",
       "      <td>0.81</td>\n",
       "    </tr>\n",
       "    <tr>\n",
       "      <th>1</th>\n",
       "      <td>1</td>\n",
       "      <td>1</td>\n",
       "      <td>1</td>\n",
       "      <td>0</td>\n",
       "      <td>6</td>\n",
       "      <td>0</td>\n",
       "      <td>1</td>\n",
       "      <td>0.22</td>\n",
       "      <td>0.2727</td>\n",
       "      <td>0.80</td>\n",
       "      <td>...</td>\n",
       "      <td>6.0</td>\n",
       "      <td>1.0</td>\n",
       "      <td>1.0</td>\n",
       "      <td>1.0</td>\n",
       "      <td>0.24</td>\n",
       "      <td>0.24</td>\n",
       "      <td>0.24</td>\n",
       "      <td>0.81</td>\n",
       "      <td>0.81</td>\n",
       "      <td>0.81</td>\n",
       "    </tr>\n",
       "    <tr>\n",
       "      <th>2</th>\n",
       "      <td>1</td>\n",
       "      <td>1</td>\n",
       "      <td>2</td>\n",
       "      <td>0</td>\n",
       "      <td>6</td>\n",
       "      <td>0</td>\n",
       "      <td>1</td>\n",
       "      <td>0.22</td>\n",
       "      <td>0.2727</td>\n",
       "      <td>0.80</td>\n",
       "      <td>...</td>\n",
       "      <td>6.0</td>\n",
       "      <td>1.0</td>\n",
       "      <td>1.0</td>\n",
       "      <td>1.0</td>\n",
       "      <td>0.22</td>\n",
       "      <td>0.24</td>\n",
       "      <td>0.24</td>\n",
       "      <td>0.80</td>\n",
       "      <td>0.81</td>\n",
       "      <td>0.81</td>\n",
       "    </tr>\n",
       "    <tr>\n",
       "      <th>3</th>\n",
       "      <td>1</td>\n",
       "      <td>1</td>\n",
       "      <td>3</td>\n",
       "      <td>0</td>\n",
       "      <td>6</td>\n",
       "      <td>0</td>\n",
       "      <td>1</td>\n",
       "      <td>0.24</td>\n",
       "      <td>0.2879</td>\n",
       "      <td>0.75</td>\n",
       "      <td>...</td>\n",
       "      <td>6.0</td>\n",
       "      <td>1.0</td>\n",
       "      <td>1.0</td>\n",
       "      <td>1.0</td>\n",
       "      <td>0.22</td>\n",
       "      <td>0.22</td>\n",
       "      <td>0.24</td>\n",
       "      <td>0.80</td>\n",
       "      <td>0.80</td>\n",
       "      <td>0.81</td>\n",
       "    </tr>\n",
       "    <tr>\n",
       "      <th>4</th>\n",
       "      <td>1</td>\n",
       "      <td>1</td>\n",
       "      <td>4</td>\n",
       "      <td>0</td>\n",
       "      <td>6</td>\n",
       "      <td>0</td>\n",
       "      <td>1</td>\n",
       "      <td>0.24</td>\n",
       "      <td>0.2879</td>\n",
       "      <td>0.75</td>\n",
       "      <td>...</td>\n",
       "      <td>6.0</td>\n",
       "      <td>1.0</td>\n",
       "      <td>1.0</td>\n",
       "      <td>1.0</td>\n",
       "      <td>0.24</td>\n",
       "      <td>0.22</td>\n",
       "      <td>0.22</td>\n",
       "      <td>0.75</td>\n",
       "      <td>0.80</td>\n",
       "      <td>0.80</td>\n",
       "    </tr>\n",
       "    <tr>\n",
       "      <th>...</th>\n",
       "      <td>...</td>\n",
       "      <td>...</td>\n",
       "      <td>...</td>\n",
       "      <td>...</td>\n",
       "      <td>...</td>\n",
       "      <td>...</td>\n",
       "      <td>...</td>\n",
       "      <td>...</td>\n",
       "      <td>...</td>\n",
       "      <td>...</td>\n",
       "      <td>...</td>\n",
       "      <td>...</td>\n",
       "      <td>...</td>\n",
       "      <td>...</td>\n",
       "      <td>...</td>\n",
       "      <td>...</td>\n",
       "      <td>...</td>\n",
       "      <td>...</td>\n",
       "      <td>...</td>\n",
       "      <td>...</td>\n",
       "      <td>...</td>\n",
       "    </tr>\n",
       "    <tr>\n",
       "      <th>11117</th>\n",
       "      <td>2</td>\n",
       "      <td>4</td>\n",
       "      <td>10</td>\n",
       "      <td>0</td>\n",
       "      <td>5</td>\n",
       "      <td>1</td>\n",
       "      <td>1</td>\n",
       "      <td>0.44</td>\n",
       "      <td>0.4394</td>\n",
       "      <td>0.38</td>\n",
       "      <td>...</td>\n",
       "      <td>5.0</td>\n",
       "      <td>1.0</td>\n",
       "      <td>1.0</td>\n",
       "      <td>1.0</td>\n",
       "      <td>0.42</td>\n",
       "      <td>0.38</td>\n",
       "      <td>0.34</td>\n",
       "      <td>0.41</td>\n",
       "      <td>0.46</td>\n",
       "      <td>0.61</td>\n",
       "    </tr>\n",
       "    <tr>\n",
       "      <th>11118</th>\n",
       "      <td>2</td>\n",
       "      <td>4</td>\n",
       "      <td>11</td>\n",
       "      <td>0</td>\n",
       "      <td>5</td>\n",
       "      <td>1</td>\n",
       "      <td>1</td>\n",
       "      <td>0.46</td>\n",
       "      <td>0.4545</td>\n",
       "      <td>0.36</td>\n",
       "      <td>...</td>\n",
       "      <td>5.0</td>\n",
       "      <td>1.0</td>\n",
       "      <td>1.0</td>\n",
       "      <td>1.0</td>\n",
       "      <td>0.44</td>\n",
       "      <td>0.42</td>\n",
       "      <td>0.38</td>\n",
       "      <td>0.38</td>\n",
       "      <td>0.41</td>\n",
       "      <td>0.46</td>\n",
       "    </tr>\n",
       "    <tr>\n",
       "      <th>11119</th>\n",
       "      <td>2</td>\n",
       "      <td>4</td>\n",
       "      <td>12</td>\n",
       "      <td>0</td>\n",
       "      <td>5</td>\n",
       "      <td>1</td>\n",
       "      <td>1</td>\n",
       "      <td>0.50</td>\n",
       "      <td>0.4848</td>\n",
       "      <td>0.31</td>\n",
       "      <td>...</td>\n",
       "      <td>5.0</td>\n",
       "      <td>1.0</td>\n",
       "      <td>1.0</td>\n",
       "      <td>1.0</td>\n",
       "      <td>0.46</td>\n",
       "      <td>0.44</td>\n",
       "      <td>0.42</td>\n",
       "      <td>0.36</td>\n",
       "      <td>0.38</td>\n",
       "      <td>0.41</td>\n",
       "    </tr>\n",
       "    <tr>\n",
       "      <th>11120</th>\n",
       "      <td>2</td>\n",
       "      <td>4</td>\n",
       "      <td>13</td>\n",
       "      <td>0</td>\n",
       "      <td>5</td>\n",
       "      <td>1</td>\n",
       "      <td>1</td>\n",
       "      <td>0.52</td>\n",
       "      <td>0.5000</td>\n",
       "      <td>0.27</td>\n",
       "      <td>...</td>\n",
       "      <td>5.0</td>\n",
       "      <td>1.0</td>\n",
       "      <td>1.0</td>\n",
       "      <td>1.0</td>\n",
       "      <td>0.50</td>\n",
       "      <td>0.46</td>\n",
       "      <td>0.44</td>\n",
       "      <td>0.31</td>\n",
       "      <td>0.36</td>\n",
       "      <td>0.38</td>\n",
       "    </tr>\n",
       "    <tr>\n",
       "      <th>11121</th>\n",
       "      <td>2</td>\n",
       "      <td>4</td>\n",
       "      <td>14</td>\n",
       "      <td>0</td>\n",
       "      <td>5</td>\n",
       "      <td>1</td>\n",
       "      <td>1</td>\n",
       "      <td>0.52</td>\n",
       "      <td>0.5000</td>\n",
       "      <td>0.27</td>\n",
       "      <td>...</td>\n",
       "      <td>5.0</td>\n",
       "      <td>1.0</td>\n",
       "      <td>1.0</td>\n",
       "      <td>1.0</td>\n",
       "      <td>0.52</td>\n",
       "      <td>0.50</td>\n",
       "      <td>0.46</td>\n",
       "      <td>0.27</td>\n",
       "      <td>0.31</td>\n",
       "      <td>0.36</td>\n",
       "    </tr>\n",
       "  </tbody>\n",
       "</table>\n",
       "<p>11122 rows × 31 columns</p>\n",
       "</div>"
      ],
      "text/plain": [
       "       season  mnth  hr  holiday  weekday  workingday  weathersit  temp  \\\n",
       "0           1     1   0        0        6           0           1  0.24   \n",
       "1           1     1   1        0        6           0           1  0.22   \n",
       "2           1     1   2        0        6           0           1  0.22   \n",
       "3           1     1   3        0        6           0           1  0.24   \n",
       "4           1     1   4        0        6           0           1  0.24   \n",
       "...       ...   ...  ..      ...      ...         ...         ...   ...   \n",
       "11117       2     4  10        0        5           1           1  0.44   \n",
       "11118       2     4  11        0        5           1           1  0.46   \n",
       "11119       2     4  12        0        5           1           1  0.50   \n",
       "11120       2     4  13        0        5           1           1  0.52   \n",
       "11121       2     4  14        0        5           1           1  0.52   \n",
       "\n",
       "        atemp   hum  ...  weekday_lag_3  weathersit_lag_1  weathersit_lag_2  \\\n",
       "0      0.2879  0.81  ...            6.0               1.0               1.0   \n",
       "1      0.2727  0.80  ...            6.0               1.0               1.0   \n",
       "2      0.2727  0.80  ...            6.0               1.0               1.0   \n",
       "3      0.2879  0.75  ...            6.0               1.0               1.0   \n",
       "4      0.2879  0.75  ...            6.0               1.0               1.0   \n",
       "...       ...   ...  ...            ...               ...               ...   \n",
       "11117  0.4394  0.38  ...            5.0               1.0               1.0   \n",
       "11118  0.4545  0.36  ...            5.0               1.0               1.0   \n",
       "11119  0.4848  0.31  ...            5.0               1.0               1.0   \n",
       "11120  0.5000  0.27  ...            5.0               1.0               1.0   \n",
       "11121  0.5000  0.27  ...            5.0               1.0               1.0   \n",
       "\n",
       "       weathersit_lag_3  temp_lag_1  temp_lag_2  temp_lag_3  hum_lag_1  \\\n",
       "0                   1.0        0.24        0.24        0.24       0.81   \n",
       "1                   1.0        0.24        0.24        0.24       0.81   \n",
       "2                   1.0        0.22        0.24        0.24       0.80   \n",
       "3                   1.0        0.22        0.22        0.24       0.80   \n",
       "4                   1.0        0.24        0.22        0.22       0.75   \n",
       "...                 ...         ...         ...         ...        ...   \n",
       "11117               1.0        0.42        0.38        0.34       0.41   \n",
       "11118               1.0        0.44        0.42        0.38       0.38   \n",
       "11119               1.0        0.46        0.44        0.42       0.36   \n",
       "11120               1.0        0.50        0.46        0.44       0.31   \n",
       "11121               1.0        0.52        0.50        0.46       0.27   \n",
       "\n",
       "       hum_lag_2  hum_lag_3  \n",
       "0           0.81       0.81  \n",
       "1           0.81       0.81  \n",
       "2           0.81       0.81  \n",
       "3           0.80       0.81  \n",
       "4           0.80       0.80  \n",
       "...          ...        ...  \n",
       "11117       0.46       0.61  \n",
       "11118       0.41       0.46  \n",
       "11119       0.38       0.41  \n",
       "11120       0.36       0.38  \n",
       "11121       0.31       0.36  \n",
       "\n",
       "[11122 rows x 31 columns]"
      ]
     },
     "execution_count": 65,
     "metadata": {},
     "output_type": "execute_result"
    }
   ],
   "source": [
    "x_train"
   ]
  },
  {
   "cell_type": "code",
   "execution_count": 66,
   "id": "f8348817-217a-4904-816b-8d504e1460df",
   "metadata": {},
   "outputs": [],
   "source": [
    "# Step 1: Define the Optuna objective with TimeSeriesSplit on x_train\n",
    "def objective(trial):\n",
    "    np.random.seed(42)\n",
    "    params = {\n",
    "        \"learning_rate\": trial.suggest_float(\"learning_rate\", 0.01, 0.2),\n",
    "        \"depth\": trial.suggest_int(\"depth\", 3, 8),\n",
    "        \"l2_leaf_reg\": trial.suggest_float(\"l2_leaf_reg\", 0.5, 5),\n",
    "        \"iterations\": 1000,\n",
    "        \"loss_function\": \"RMSE\",\n",
    "        \"verbose\": 0\n",
    "    }\n",
    "\n",
    "    train_idx = int(0.85 * x_train.shape[0])\n",
    "\n",
    "    x_tr, x_val = x_train.iloc[:train_idx], x_train.iloc[train_idx:]\n",
    "    y_tr, y_val = y_train.iloc[:train_idx], y_train.iloc[train_idx:]\n",
    "\n",
    "    model = CatBoostRegressor(**params, random_seed=42)\n",
    "    model.fit(x_tr, y_tr,\n",
    "              eval_set=(x_val, y_val),\n",
    "              early_stopping_rounds=100,\n",
    "              use_best_model=True)\n",
    "\n",
    "    preds = model.predict(x_val)\n",
    "    rmse = np.sqrt(mean_squared_error(y_val, preds))\n",
    "\n",
    "    # Save best iteration\n",
    "    trial.set_user_attr(\"best_iteration\", model.get_best_iteration())\n",
    "\n",
    "    return rmse"
   ]
  },
  {
   "cell_type": "code",
   "execution_count": 67,
   "id": "2157e40a-0949-42c9-b56a-8aec2a2be48d",
   "metadata": {
    "scrolled": true
   },
   "outputs": [
    {
     "name": "stderr",
     "output_type": "stream",
     "text": [
      "[I 2025-07-23 08:32:16,644] A new study created in memory with name: no-name-83854229-b2cb-437d-88d8-35f7c621f357\n",
      "[I 2025-07-23 08:32:17,366] Trial 0 finished with value: 62.631936201851325 and parameters: {'learning_rate': 0.08116262258099886, 'depth': 8, 'l2_leaf_reg': 3.793972738151323}. Best is trial 0 with value: 62.631936201851325.\n",
      "[I 2025-07-23 08:32:17,551] Trial 1 finished with value: 60.80780968109356 and parameters: {'learning_rate': 0.12374511199743694, 'depth': 3, 'l2_leaf_reg': 1.201975341512912}. Best is trial 1 with value: 60.80780968109356.\n",
      "[I 2025-07-23 08:32:18,808] Trial 2 finished with value: 61.810606852953356 and parameters: {'learning_rate': 0.021035886311957897, 'depth': 8, 'l2_leaf_reg': 3.20501755284444}. Best is trial 1 with value: 60.80780968109356.\n",
      "[I 2025-07-23 08:32:19,005] Trial 3 finished with value: 61.2588653634944 and parameters: {'learning_rate': 0.14453378978124864, 'depth': 3, 'l2_leaf_reg': 4.864594334728975}. Best is trial 1 with value: 60.80780968109356.\n",
      "[I 2025-07-23 08:32:19,149] Trial 4 finished with value: 61.56180241676593 and parameters: {'learning_rate': 0.16816410175208013, 'depth': 4, 'l2_leaf_reg': 1.318212352431953}. Best is trial 1 with value: 60.80780968109356.\n",
      "[I 2025-07-23 08:32:19,512] Trial 5 finished with value: 60.35682142271266 and parameters: {'learning_rate': 0.044846856872152424, 'depth': 4, 'l2_leaf_reg': 2.86140394234507}. Best is trial 5 with value: 60.35682142271266.\n",
      "[I 2025-07-23 08:32:19,804] Trial 6 finished with value: 59.09633628177193 and parameters: {'learning_rate': 0.092069553542002, 'depth': 4, 'l2_leaf_reg': 3.2533380262507077}. Best is trial 6 with value: 59.09633628177193.\n",
      "[I 2025-07-23 08:32:20,189] Trial 7 finished with value: 60.53571011388483 and parameters: {'learning_rate': 0.036503833523887946, 'depth': 4, 'l2_leaf_reg': 2.148628294821613}. Best is trial 6 with value: 59.09633628177193.\n",
      "[I 2025-07-23 08:32:20,509] Trial 8 finished with value: 61.91255777492819 and parameters: {'learning_rate': 0.09665329700123683, 'depth': 7, 'l2_leaf_reg': 1.3985320197126188}. Best is trial 6 with value: 59.09633628177193.\n",
      "[I 2025-07-23 08:32:20,722] Trial 9 finished with value: 60.516741095887745 and parameters: {'learning_rate': 0.1077045432985862, 'depth': 6, 'l2_leaf_reg': 0.7090268572399898}. Best is trial 6 with value: 59.09633628177193.\n",
      "[I 2025-07-23 08:32:20,899] Trial 10 finished with value: 61.63885026881741 and parameters: {'learning_rate': 0.1895759434037735, 'depth': 5, 'l2_leaf_reg': 4.146207888434965}. Best is trial 6 with value: 59.09633628177193.\n",
      "[I 2025-07-23 08:32:21,207] Trial 11 finished with value: 60.30102193235378 and parameters: {'learning_rate': 0.059958289599697116, 'depth': 5, 'l2_leaf_reg': 2.75359318685479}. Best is trial 6 with value: 59.09633628177193.\n",
      "[I 2025-07-23 08:32:21,497] Trial 12 finished with value: 60.18742783097731 and parameters: {'learning_rate': 0.0681060890545777, 'depth': 5, 'l2_leaf_reg': 2.1715473272817905}. Best is trial 6 with value: 59.09633628177193.\n",
      "[I 2025-07-23 08:32:21,826] Trial 13 finished with value: 59.596773870302854 and parameters: {'learning_rate': 0.07701797326343779, 'depth': 6, 'l2_leaf_reg': 2.1024105050074717}. Best is trial 6 with value: 59.09633628177193.\n",
      "[I 2025-07-23 08:32:22,075] Trial 14 finished with value: 59.9702666112046 and parameters: {'learning_rate': 0.1318121371133164, 'depth': 6, 'l2_leaf_reg': 2.0413219718199054}. Best is trial 6 with value: 59.09633628177193.\n",
      "[I 2025-07-23 08:32:22,376] Trial 15 finished with value: 61.378116513484684 and parameters: {'learning_rate': 0.09495643648984396, 'depth': 7, 'l2_leaf_reg': 3.553362587287101}. Best is trial 6 with value: 59.09633628177193.\n",
      "[I 2025-07-23 08:32:22,725] Trial 16 finished with value: 60.39206521351761 and parameters: {'learning_rate': 0.0757426358190255, 'depth': 6, 'l2_leaf_reg': 4.603625254480719}. Best is trial 6 with value: 59.09633628177193.\n",
      "[I 2025-07-23 08:32:24,273] Trial 17 finished with value: 60.91627615118986 and parameters: {'learning_rate': 0.015009936037103391, 'depth': 7, 'l2_leaf_reg': 2.3559361798794027}. Best is trial 6 with value: 59.09633628177193.\n",
      "[I 2025-07-23 08:32:24,505] Trial 18 finished with value: 59.21136969030692 and parameters: {'learning_rate': 0.1131028686119041, 'depth': 4, 'l2_leaf_reg': 3.335448672428488}. Best is trial 6 with value: 59.09633628177193.\n",
      "[I 2025-07-23 08:32:24,660] Trial 19 finished with value: 61.64286049849454 and parameters: {'learning_rate': 0.16119701019857388, 'depth': 3, 'l2_leaf_reg': 3.4738507638152907}. Best is trial 6 with value: 59.09633628177193.\n",
      "[I 2025-07-23 08:32:24,846] Trial 20 finished with value: 60.86772488695251 and parameters: {'learning_rate': 0.11723030240978202, 'depth': 4, 'l2_leaf_reg': 4.166526735522041}. Best is trial 6 with value: 59.09633628177193.\n",
      "[I 2025-07-23 08:32:25,072] Trial 21 finished with value: 60.52653939837451 and parameters: {'learning_rate': 0.09311394146806921, 'depth': 5, 'l2_leaf_reg': 2.5995015407689923}. Best is trial 6 with value: 59.09633628177193.\n",
      "[I 2025-07-23 08:32:25,380] Trial 22 finished with value: 60.433105005175086 and parameters: {'learning_rate': 0.04802161694749026, 'depth': 4, 'l2_leaf_reg': 3.0418914987933987}. Best is trial 6 with value: 59.09633628177193.\n",
      "[I 2025-07-23 08:32:25,569] Trial 23 finished with value: 58.706060759089446 and parameters: {'learning_rate': 0.1419111576560104, 'depth': 6, 'l2_leaf_reg': 1.8022342203675485}. Best is trial 23 with value: 58.706060759089446.\n",
      "[I 2025-07-23 08:32:25,762] Trial 24 finished with value: 58.64591849081175 and parameters: {'learning_rate': 0.1511536478759255, 'depth': 5, 'l2_leaf_reg': 1.7945143697522021}. Best is trial 24 with value: 58.64591849081175.\n",
      "[I 2025-07-23 08:32:25,931] Trial 25 finished with value: 61.26386751122939 and parameters: {'learning_rate': 0.14477298831933413, 'depth': 5, 'l2_leaf_reg': 1.6006505001001048}. Best is trial 24 with value: 58.64591849081175.\n",
      "[I 2025-07-23 08:32:26,131] Trial 26 finished with value: 59.80541413169765 and parameters: {'learning_rate': 0.18813662027954428, 'depth': 6, 'l2_leaf_reg': 1.7010668843399872}. Best is trial 24 with value: 58.64591849081175.\n",
      "[I 2025-07-23 08:32:26,307] Trial 27 finished with value: 59.04382537602371 and parameters: {'learning_rate': 0.16643136788117055, 'depth': 5, 'l2_leaf_reg': 1.0005062193497625}. Best is trial 24 with value: 58.64591849081175.\n",
      "[I 2025-07-23 08:32:26,537] Trial 28 finished with value: 64.09972011323569 and parameters: {'learning_rate': 0.17224850811207448, 'depth': 7, 'l2_leaf_reg': 0.502532068770335}. Best is trial 24 with value: 58.64591849081175.\n",
      "[I 2025-07-23 08:32:26,877] Trial 29 finished with value: 62.03444900397157 and parameters: {'learning_rate': 0.15191580751788775, 'depth': 8, 'l2_leaf_reg': 0.9777188855789468}. Best is trial 24 with value: 58.64591849081175.\n",
      "[I 2025-07-23 08:32:27,050] Trial 30 finished with value: 59.99418589140179 and parameters: {'learning_rate': 0.18022219460606698, 'depth': 5, 'l2_leaf_reg': 1.7388120301648837}. Best is trial 24 with value: 58.64591849081175.\n",
      "[I 2025-07-23 08:32:27,229] Trial 31 finished with value: 59.3708051965363 and parameters: {'learning_rate': 0.13260454563457247, 'depth': 5, 'l2_leaf_reg': 0.9594038687421621}. Best is trial 24 with value: 58.64591849081175.\n",
      "[I 2025-07-23 08:32:27,452] Trial 32 finished with value: 58.716711780098116 and parameters: {'learning_rate': 0.1569821146465897, 'depth': 6, 'l2_leaf_reg': 2.4624492510752605}. Best is trial 24 with value: 58.64591849081175.\n",
      "[I 2025-07-23 08:32:27,665] Trial 33 finished with value: 59.077957274518425 and parameters: {'learning_rate': 0.15673265783768206, 'depth': 6, 'l2_leaf_reg': 2.5181210414520248}. Best is trial 24 with value: 58.64591849081175.\n",
      "[I 2025-07-23 08:32:27,842] Trial 34 finished with value: 59.404859510684915 and parameters: {'learning_rate': 0.19967283670812827, 'depth': 6, 'l2_leaf_reg': 1.831011558735253}. Best is trial 24 with value: 58.64591849081175.\n",
      "[I 2025-07-23 08:32:28,126] Trial 35 finished with value: 59.96227300669457 and parameters: {'learning_rate': 0.1362875927467579, 'depth': 7, 'l2_leaf_reg': 1.2017634788702583}. Best is trial 24 with value: 58.64591849081175.\n",
      "[I 2025-07-23 08:32:28,316] Trial 36 finished with value: 61.87879670777083 and parameters: {'learning_rate': 0.16736082159521914, 'depth': 6, 'l2_leaf_reg': 1.5276479468992588}. Best is trial 24 with value: 58.64591849081175.\n",
      "[I 2025-07-23 08:32:28,583] Trial 37 finished with value: 58.43242679476839 and parameters: {'learning_rate': 0.14944318523034023, 'depth': 5, 'l2_leaf_reg': 1.1054739031183558}. Best is trial 37 with value: 58.43242679476839.\n",
      "[I 2025-07-23 08:32:28,790] Trial 38 finished with value: 58.366238817263714 and parameters: {'learning_rate': 0.12264636493711827, 'depth': 6, 'l2_leaf_reg': 1.9463202001325834}. Best is trial 38 with value: 58.366238817263714.\n",
      "[I 2025-07-23 08:32:29,105] Trial 39 finished with value: 60.3106996171749 and parameters: {'learning_rate': 0.12221721168464313, 'depth': 7, 'l2_leaf_reg': 1.9313642970406235}. Best is trial 38 with value: 58.366238817263714.\n",
      "[I 2025-07-23 08:32:29,415] Trial 40 finished with value: 62.94118064473818 and parameters: {'learning_rate': 0.14862415644413657, 'depth': 8, 'l2_leaf_reg': 1.305868652309373}. Best is trial 38 with value: 58.366238817263714.\n",
      "[I 2025-07-23 08:32:29,623] Trial 41 finished with value: 61.133997508536396 and parameters: {'learning_rate': 0.1403066275212597, 'depth': 6, 'l2_leaf_reg': 2.3499678850013663}. Best is trial 38 with value: 58.366238817263714.\n",
      "[I 2025-07-23 08:32:29,873] Trial 42 finished with value: 61.563988612656445 and parameters: {'learning_rate': 0.1263499178805005, 'depth': 5, 'l2_leaf_reg': 2.3509713575473805}. Best is trial 38 with value: 58.366238817263714.\n",
      "[I 2025-07-23 08:32:30,080] Trial 43 finished with value: 58.486938139647954 and parameters: {'learning_rate': 0.1537375325139936, 'depth': 6, 'l2_leaf_reg': 1.5128984762146975}. Best is trial 38 with value: 58.366238817263714.\n",
      "[I 2025-07-23 08:32:30,301] Trial 44 finished with value: 60.461855659712505 and parameters: {'learning_rate': 0.10300270266700963, 'depth': 5, 'l2_leaf_reg': 1.1080470335206527}. Best is trial 38 with value: 58.366238817263714.\n",
      "[I 2025-07-23 08:32:30,512] Trial 45 finished with value: 59.096561397386395 and parameters: {'learning_rate': 0.14243977998655616, 'depth': 6, 'l2_leaf_reg': 0.7378021399949695}. Best is trial 38 with value: 58.366238817263714.\n",
      "[I 2025-07-23 08:32:30,698] Trial 46 finished with value: 61.671526416468254 and parameters: {'learning_rate': 0.12773621376515723, 'depth': 5, 'l2_leaf_reg': 1.454215037396872}. Best is trial 38 with value: 58.366238817263714.\n",
      "[I 2025-07-23 08:32:30,900] Trial 47 finished with value: 58.69293377320394 and parameters: {'learning_rate': 0.1512025731578872, 'depth': 6, 'l2_leaf_reg': 1.955033438559819}. Best is trial 38 with value: 58.366238817263714.\n",
      "[I 2025-07-23 08:32:31,043] Trial 48 finished with value: 62.937007058960475 and parameters: {'learning_rate': 0.17399667875392585, 'depth': 4, 'l2_leaf_reg': 1.9496117193932916}. Best is trial 38 with value: 58.366238817263714.\n",
      "[I 2025-07-23 08:32:31,297] Trial 49 finished with value: 62.32363690615062 and parameters: {'learning_rate': 0.15510991292463322, 'depth': 7, 'l2_leaf_reg': 1.3428542740579275}. Best is trial 38 with value: 58.366238817263714.\n",
      "[I 2025-07-23 08:32:31,489] Trial 50 finished with value: 62.16181329366868 and parameters: {'learning_rate': 0.18172836848258925, 'depth': 6, 'l2_leaf_reg': 2.8400507271619686}. Best is trial 38 with value: 58.366238817263714.\n",
      "[I 2025-07-23 08:32:31,684] Trial 51 finished with value: 58.267020311236905 and parameters: {'learning_rate': 0.1477806944428887, 'depth': 6, 'l2_leaf_reg': 1.6046592489789484}. Best is trial 51 with value: 58.267020311236905.\n",
      "[I 2025-07-23 08:32:31,849] Trial 52 finished with value: 60.10525889671242 and parameters: {'learning_rate': 0.16172683997821258, 'depth': 6, 'l2_leaf_reg': 1.5750297295783235}. Best is trial 51 with value: 58.267020311236905.\n",
      "[I 2025-07-23 08:32:32,041] Trial 53 finished with value: 59.854915456003944 and parameters: {'learning_rate': 0.12125896470166167, 'depth': 5, 'l2_leaf_reg': 2.118209207453691}. Best is trial 51 with value: 58.267020311236905.\n",
      "[I 2025-07-23 08:32:32,380] Trial 54 finished with value: 61.36445261613052 and parameters: {'learning_rate': 0.1117115576942866, 'depth': 7, 'l2_leaf_reg': 0.7522618951601174}. Best is trial 51 with value: 58.267020311236905.\n",
      "[I 2025-07-23 08:32:32,590] Trial 55 finished with value: 58.728612311793306 and parameters: {'learning_rate': 0.14812421192034217, 'depth': 6, 'l2_leaf_reg': 2.203873191300856}. Best is trial 51 with value: 58.267020311236905.\n",
      "[I 2025-07-23 08:32:32,779] Trial 56 finished with value: 59.55423081493849 and parameters: {'learning_rate': 0.13489668518179165, 'depth': 5, 'l2_leaf_reg': 1.2378514925065704}. Best is trial 51 with value: 58.267020311236905.\n",
      "[I 2025-07-23 08:32:33,080] Trial 57 finished with value: 60.348456958093315 and parameters: {'learning_rate': 0.08645601224568134, 'depth': 6, 'l2_leaf_reg': 1.4315672603322795}. Best is trial 51 with value: 58.267020311236905.\n",
      "[I 2025-07-23 08:32:33,380] Trial 58 finished with value: 61.102088578255206 and parameters: {'learning_rate': 0.10224000743353406, 'depth': 3, 'l2_leaf_reg': 1.65386100241298}. Best is trial 51 with value: 58.267020311236905.\n",
      "[I 2025-07-23 08:32:33,553] Trial 59 finished with value: 60.265991117427994 and parameters: {'learning_rate': 0.1604058112776505, 'depth': 5, 'l2_leaf_reg': 1.9505926368185924}. Best is trial 51 with value: 58.267020311236905.\n",
      "[I 2025-07-23 08:32:33,781] Trial 60 finished with value: 58.148880209291335 and parameters: {'learning_rate': 0.1500117300169922, 'depth': 6, 'l2_leaf_reg': 2.6916784635606734}. Best is trial 60 with value: 58.148880209291335.\n",
      "[I 2025-07-23 08:32:33,987] Trial 61 finished with value: 59.18784789656875 and parameters: {'learning_rate': 0.14577732623648973, 'depth': 6, 'l2_leaf_reg': 2.635764766986914}. Best is trial 60 with value: 58.148880209291335.\n",
      "[I 2025-07-23 08:32:34,182] Trial 62 finished with value: 59.5554870181809 and parameters: {'learning_rate': 0.15172641244846846, 'depth': 6, 'l2_leaf_reg': 3.8156023156272223}. Best is trial 60 with value: 58.148880209291335.\n",
      "[I 2025-07-23 08:32:34,374] Trial 63 finished with value: 59.30915085801603 and parameters: {'learning_rate': 0.13712997095204535, 'depth': 6, 'l2_leaf_reg': 1.8423476586487335}. Best is trial 60 with value: 58.148880209291335.\n",
      "[I 2025-07-23 08:32:34,597] Trial 64 finished with value: 61.2990381132245 and parameters: {'learning_rate': 0.17265110027255517, 'depth': 7, 'l2_leaf_reg': 3.0371605002641666}. Best is trial 60 with value: 58.148880209291335.\n",
      "[I 2025-07-23 08:32:34,768] Trial 65 finished with value: 58.94184902591414 and parameters: {'learning_rate': 0.16354183480592394, 'depth': 5, 'l2_leaf_reg': 2.2131736411702905}. Best is trial 60 with value: 58.148880209291335.\n",
      "[I 2025-07-23 08:32:34,991] Trial 66 finished with value: 61.008245500821374 and parameters: {'learning_rate': 0.1314401551953935, 'depth': 6, 'l2_leaf_reg': 1.6709993623121542}. Best is trial 60 with value: 58.148880209291335.\n",
      "[I 2025-07-23 08:32:35,183] Trial 67 finished with value: 60.041745834612364 and parameters: {'learning_rate': 0.1522979579891406, 'depth': 6, 'l2_leaf_reg': 1.1369054852814537}. Best is trial 60 with value: 58.148880209291335.\n",
      "[I 2025-07-23 08:32:35,461] Trial 68 finished with value: 60.87332803361974 and parameters: {'learning_rate': 0.11776460438281512, 'depth': 5, 'l2_leaf_reg': 2.0658634862775807}. Best is trial 60 with value: 58.148880209291335.\n",
      "[I 2025-07-23 08:32:35,696] Trial 69 finished with value: 60.9019927665357 and parameters: {'learning_rate': 0.17822674945083103, 'depth': 6, 'l2_leaf_reg': 0.8567431920828474}. Best is trial 60 with value: 58.148880209291335.\n",
      "[I 2025-07-23 08:32:35,948] Trial 70 finished with value: 61.56473264389801 and parameters: {'learning_rate': 0.14082846009275468, 'depth': 7, 'l2_leaf_reg': 1.483241736694371}. Best is trial 60 with value: 58.148880209291335.\n",
      "[I 2025-07-23 08:32:36,147] Trial 71 finished with value: 58.827625548680615 and parameters: {'learning_rate': 0.14343145967642687, 'depth': 6, 'l2_leaf_reg': 1.7398172818562994}. Best is trial 60 with value: 58.148880209291335.\n",
      "[I 2025-07-23 08:32:36,350] Trial 72 finished with value: 59.34206980356282 and parameters: {'learning_rate': 0.1297690470886239, 'depth': 6, 'l2_leaf_reg': 1.8488315589810398}. Best is trial 60 with value: 58.148880209291335.\n",
      "[I 2025-07-23 08:32:36,529] Trial 73 finished with value: 60.0335753455244 and parameters: {'learning_rate': 0.15846842580501122, 'depth': 6, 'l2_leaf_reg': 1.3508653225403084}. Best is trial 60 with value: 58.148880209291335.\n",
      "[I 2025-07-23 08:32:36,714] Trial 74 finished with value: 59.4658523955903 and parameters: {'learning_rate': 0.1674691485747984, 'depth': 5, 'l2_leaf_reg': 1.760284225485266}. Best is trial 60 with value: 58.148880209291335.\n",
      "[I 2025-07-23 08:32:36,916] Trial 75 finished with value: 58.98695215473628 and parameters: {'learning_rate': 0.1487703381144284, 'depth': 6, 'l2_leaf_reg': 2.288347716971751}. Best is trial 60 with value: 58.148880209291335.\n",
      "[I 2025-07-23 08:32:37,168] Trial 76 finished with value: 60.34870880775351 and parameters: {'learning_rate': 0.1367288743717708, 'depth': 6, 'l2_leaf_reg': 2.003788245315009}. Best is trial 60 with value: 58.148880209291335.\n",
      "[I 2025-07-23 08:32:37,351] Trial 77 finished with value: 60.018836739957834 and parameters: {'learning_rate': 0.15390968829104276, 'depth': 5, 'l2_leaf_reg': 1.5616817119087472}. Best is trial 60 with value: 58.148880209291335.\n",
      "[I 2025-07-23 08:32:37,600] Trial 78 finished with value: 62.490000919316266 and parameters: {'learning_rate': 0.1433653620172509, 'depth': 7, 'l2_leaf_reg': 2.4965867370949173}. Best is trial 60 with value: 58.148880209291335.\n",
      "[I 2025-07-23 08:32:37,775] Trial 79 finished with value: 60.608216639381695 and parameters: {'learning_rate': 0.1219378193679196, 'depth': 4, 'l2_leaf_reg': 0.5847691818253381}. Best is trial 60 with value: 58.148880209291335.\n",
      "[I 2025-07-23 08:32:38,422] Trial 80 finished with value: 60.837659802478676 and parameters: {'learning_rate': 0.02480251920177451, 'depth': 6, 'l2_leaf_reg': 1.1575723653663836}. Best is trial 60 with value: 58.148880209291335.\n",
      "[I 2025-07-23 08:32:38,627] Trial 81 finished with value: 60.95444962095807 and parameters: {'learning_rate': 0.15747073414572893, 'depth': 6, 'l2_leaf_reg': 2.446708793808638}. Best is trial 60 with value: 58.148880209291335.\n",
      "[I 2025-07-23 08:32:38,855] Trial 82 finished with value: 59.933169541156204 and parameters: {'learning_rate': 0.16519440296956778, 'depth': 6, 'l2_leaf_reg': 2.721061872048537}. Best is trial 60 with value: 58.148880209291335.\n",
      "[I 2025-07-23 08:32:39,074] Trial 83 finished with value: 58.12500994249189 and parameters: {'learning_rate': 0.14818132234356768, 'depth': 6, 'l2_leaf_reg': 2.976386527522222}. Best is trial 83 with value: 58.12500994249189.\n",
      "[I 2025-07-23 08:32:39,283] Trial 84 finished with value: 60.238232905250115 and parameters: {'learning_rate': 0.13910520564365528, 'depth': 6, 'l2_leaf_reg': 3.0919959270538944}. Best is trial 83 with value: 58.12500994249189.\n",
      "[I 2025-07-23 08:32:39,452] Trial 85 finished with value: 61.339106555284054 and parameters: {'learning_rate': 0.14873209879522875, 'depth': 5, 'l2_leaf_reg': 3.406279526814016}. Best is trial 83 with value: 58.12500994249189.\n",
      "[I 2025-07-23 08:32:39,680] Trial 86 finished with value: 58.29750643671473 and parameters: {'learning_rate': 0.13289362021135326, 'depth': 6, 'l2_leaf_reg': 2.9129647765575477}. Best is trial 83 with value: 58.12500994249189.\n",
      "[I 2025-07-23 08:32:39,915] Trial 87 finished with value: 60.42811092005187 and parameters: {'learning_rate': 0.11458878558956567, 'depth': 6, 'l2_leaf_reg': 3.622125974857612}. Best is trial 83 with value: 58.12500994249189.\n",
      "[I 2025-07-23 08:32:40,125] Trial 88 finished with value: 61.397368153706 and parameters: {'learning_rate': 0.13326643449597778, 'depth': 5, 'l2_leaf_reg': 3.199877969451169}. Best is trial 83 with value: 58.12500994249189.\n",
      "[I 2025-07-23 08:32:40,392] Trial 89 finished with value: 59.03697212896242 and parameters: {'learning_rate': 0.12398544718939027, 'depth': 6, 'l2_leaf_reg': 2.7725941459035526}. Best is trial 83 with value: 58.12500994249189.\n",
      "[I 2025-07-23 08:32:40,668] Trial 90 finished with value: 63.75591281544527 and parameters: {'learning_rate': 0.15095527046981194, 'depth': 7, 'l2_leaf_reg': 4.784463683500656}. Best is trial 83 with value: 58.12500994249189.\n",
      "[I 2025-07-23 08:32:40,894] Trial 91 finished with value: 59.7138522889227 and parameters: {'learning_rate': 0.1443852714913404, 'depth': 6, 'l2_leaf_reg': 2.9074936279851795}. Best is trial 83 with value: 58.12500994249189.\n",
      "[I 2025-07-23 08:32:41,123] Trial 92 finished with value: 60.453663750285486 and parameters: {'learning_rate': 0.12852846755950195, 'depth': 6, 'l2_leaf_reg': 3.1621616947285687}. Best is trial 83 with value: 58.12500994249189.\n",
      "[I 2025-07-23 08:32:41,328] Trial 93 finished with value: 58.427059997148575 and parameters: {'learning_rate': 0.13980271746462708, 'depth': 6, 'l2_leaf_reg': 1.8555281519653994}. Best is trial 83 with value: 58.12500994249189.\n",
      "[I 2025-07-23 08:32:41,529] Trial 94 finished with value: 59.89024485144088 and parameters: {'learning_rate': 0.16076937946855335, 'depth': 6, 'l2_leaf_reg': 2.962521625385855}. Best is trial 83 with value: 58.12500994249189.\n",
      "[I 2025-07-23 08:32:41,704] Trial 95 finished with value: 60.200906761325335 and parameters: {'learning_rate': 0.15557707953619898, 'depth': 5, 'l2_leaf_reg': 3.2872590839182716}. Best is trial 83 with value: 58.12500994249189.\n",
      "[I 2025-07-23 08:32:41,906] Trial 96 finished with value: 60.382541400321074 and parameters: {'learning_rate': 0.1392054030867071, 'depth': 6, 'l2_leaf_reg': 2.646034906930276}. Best is trial 83 with value: 58.12500994249189.\n",
      "[I 2025-07-23 08:32:42,094] Trial 97 finished with value: 59.00702969160493 and parameters: {'learning_rate': 0.1465384513478682, 'depth': 6, 'l2_leaf_reg': 1.8795809009127338}. Best is trial 83 with value: 58.12500994249189.\n",
      "[I 2025-07-23 08:32:42,290] Trial 98 finished with value: 60.18011579551595 and parameters: {'learning_rate': 0.13417816637065275, 'depth': 5, 'l2_leaf_reg': 1.0031366171655993}. Best is trial 83 with value: 58.12500994249189.\n",
      "[I 2025-07-23 08:32:42,503] Trial 99 finished with value: 59.337558785336824 and parameters: {'learning_rate': 0.16948942154504984, 'depth': 6, 'l2_leaf_reg': 1.6205442033484512}. Best is trial 83 with value: 58.12500994249189.\n",
      "[I 2025-07-23 08:32:42,753] Trial 100 finished with value: 59.31918574102841 and parameters: {'learning_rate': 0.1272062009272648, 'depth': 6, 'l2_leaf_reg': 1.2725441862105287}. Best is trial 83 with value: 58.12500994249189.\n",
      "[I 2025-07-23 08:32:42,930] Trial 101 finished with value: 60.43325940750476 and parameters: {'learning_rate': 0.1523255863281885, 'depth': 6, 'l2_leaf_reg': 1.7965659931982407}. Best is trial 83 with value: 58.12500994249189.\n",
      "[I 2025-07-23 08:32:43,166] Trial 102 finished with value: 60.35956842596778 and parameters: {'learning_rate': 0.10901597009379242, 'depth': 6, 'l2_leaf_reg': 2.0048811293839766}. Best is trial 83 with value: 58.12500994249189.\n",
      "[I 2025-07-23 08:32:43,365] Trial 103 finished with value: 59.08093562757431 and parameters: {'learning_rate': 0.1413946995397174, 'depth': 6, 'l2_leaf_reg': 2.126379302340135}. Best is trial 83 with value: 58.12500994249189.\n",
      "[I 2025-07-23 08:32:43,582] Trial 104 finished with value: 58.24771964597561 and parameters: {'learning_rate': 0.14766923668896265, 'depth': 6, 'l2_leaf_reg': 1.408449165577678}. Best is trial 83 with value: 58.12500994249189.\n",
      "[I 2025-07-23 08:32:43,798] Trial 105 finished with value: 59.39518458860721 and parameters: {'learning_rate': 0.14679361639703564, 'depth': 6, 'l2_leaf_reg': 1.4001338116984496}. Best is trial 83 with value: 58.12500994249189.\n",
      "[I 2025-07-23 08:32:44,043] Trial 106 finished with value: 60.49367670102641 and parameters: {'learning_rate': 0.15642160230255578, 'depth': 7, 'l2_leaf_reg': 1.0623207939790127}. Best is trial 83 with value: 58.12500994249189.\n",
      "[I 2025-07-23 08:32:44,216] Trial 107 finished with value: 59.90771359935891 and parameters: {'learning_rate': 0.16123954277221286, 'depth': 6, 'l2_leaf_reg': 1.6707492228513043}. Best is trial 83 with value: 58.12500994249189.\n",
      "[I 2025-07-23 08:32:44,444] Trial 108 finished with value: 61.93466088350706 and parameters: {'learning_rate': 0.11815562474141211, 'depth': 5, 'l2_leaf_reg': 1.5354486541156558}. Best is trial 83 with value: 58.12500994249189.\n",
      "[I 2025-07-23 08:32:44,667] Trial 109 finished with value: 59.19936131143976 and parameters: {'learning_rate': 0.13670385078410938, 'depth': 6, 'l2_leaf_reg': 1.4276635939091311}. Best is trial 83 with value: 58.12500994249189.\n",
      "[I 2025-07-23 08:32:44,899] Trial 110 finished with value: 59.27673383812383 and parameters: {'learning_rate': 0.1493145663671496, 'depth': 6, 'l2_leaf_reg': 1.217710915802908}. Best is trial 83 with value: 58.12500994249189.\n",
      "[I 2025-07-23 08:32:45,140] Trial 111 finished with value: 59.76136581499107 and parameters: {'learning_rate': 0.143342975704639, 'depth': 6, 'l2_leaf_reg': 2.2214406518106435}. Best is trial 83 with value: 58.12500994249189.\n",
      "[I 2025-07-23 08:32:45,439] Trial 112 finished with value: 58.51381946960722 and parameters: {'learning_rate': 0.13219327084700766, 'depth': 6, 'l2_leaf_reg': 1.909067373005396}. Best is trial 83 with value: 58.12500994249189.\n",
      "[I 2025-07-23 08:32:45,708] Trial 113 finished with value: 59.24751965463948 and parameters: {'learning_rate': 0.13199718652184847, 'depth': 6, 'l2_leaf_reg': 1.882888980341306}. Best is trial 83 with value: 58.12500994249189.\n",
      "[I 2025-07-23 08:32:45,959] Trial 114 finished with value: 58.26363053064403 and parameters: {'learning_rate': 0.15343440663706676, 'depth': 6, 'l2_leaf_reg': 1.7466610645832372}. Best is trial 83 with value: 58.12500994249189.\n",
      "[I 2025-07-23 08:32:46,294] Trial 115 finished with value: 58.49823946703216 and parameters: {'learning_rate': 0.1249895117075448, 'depth': 6, 'l2_leaf_reg': 1.7077062201615698}. Best is trial 83 with value: 58.12500994249189.\n",
      "[I 2025-07-23 08:32:46,564] Trial 116 finished with value: 59.353845359104525 and parameters: {'learning_rate': 0.12917831111921793, 'depth': 6, 'l2_leaf_reg': 1.4925181073837406}. Best is trial 83 with value: 58.12500994249189.\n",
      "[I 2025-07-23 08:32:46,900] Trial 117 finished with value: 59.993807450898615 and parameters: {'learning_rate': 0.12551827770621674, 'depth': 6, 'l2_leaf_reg': 1.3259914343375188}. Best is trial 83 with value: 58.12500994249189.\n",
      "[I 2025-07-23 08:32:47,265] Trial 118 finished with value: 60.6576060258218 and parameters: {'learning_rate': 0.13837279064172317, 'depth': 6, 'l2_leaf_reg': 1.67512615867282}. Best is trial 83 with value: 58.12500994249189.\n",
      "[I 2025-07-23 08:32:47,508] Trial 119 finished with value: 60.54998809339053 and parameters: {'learning_rate': 0.12161250004110717, 'depth': 6, 'l2_leaf_reg': 1.5916046251773646}. Best is trial 83 with value: 58.12500994249189.\n",
      "[I 2025-07-23 08:32:48,013] Trial 120 finished with value: 60.649660858355006 and parameters: {'learning_rate': 0.1000919288620001, 'depth': 7, 'l2_leaf_reg': 1.755960812098731}. Best is trial 83 with value: 58.12500994249189.\n",
      "[I 2025-07-23 08:32:48,234] Trial 121 finished with value: 58.81328521625497 and parameters: {'learning_rate': 0.15492170586340315, 'depth': 6, 'l2_leaf_reg': 1.7938327013736772}. Best is trial 83 with value: 58.12500994249189.\n",
      "[I 2025-07-23 08:32:48,461] Trial 122 finished with value: 58.092785725989785 and parameters: {'learning_rate': 0.14584463068359452, 'depth': 6, 'l2_leaf_reg': 0.8809481257038816}. Best is trial 122 with value: 58.092785725989785.\n",
      "[I 2025-07-23 08:32:48,712] Trial 123 finished with value: 58.11061043939015 and parameters: {'learning_rate': 0.14064491862849965, 'depth': 6, 'l2_leaf_reg': 0.8489631776177851}. Best is trial 122 with value: 58.092785725989785.\n",
      "[I 2025-07-23 08:32:48,952] Trial 124 finished with value: 58.3182452640491 and parameters: {'learning_rate': 0.14129978732142745, 'depth': 6, 'l2_leaf_reg': 0.8623904042159113}. Best is trial 122 with value: 58.092785725989785.\n",
      "[I 2025-07-23 08:32:49,212] Trial 125 finished with value: 57.5747283929045 and parameters: {'learning_rate': 0.14538452461051174, 'depth': 6, 'l2_leaf_reg': 0.8141990632904405}. Best is trial 125 with value: 57.5747283929045.\n",
      "[I 2025-07-23 08:32:49,400] Trial 126 finished with value: 58.58790405365968 and parameters: {'learning_rate': 0.14510031235236986, 'depth': 6, 'l2_leaf_reg': 0.6407909959305704}. Best is trial 125 with value: 57.5747283929045.\n",
      "[I 2025-07-23 08:32:49,632] Trial 127 finished with value: 58.21519617378589 and parameters: {'learning_rate': 0.14105629584169893, 'depth': 6, 'l2_leaf_reg': 0.76912481036852}. Best is trial 125 with value: 57.5747283929045.\n",
      "[I 2025-07-23 08:32:49,871] Trial 128 finished with value: 59.37043648803755 and parameters: {'learning_rate': 0.1405324608204985, 'depth': 6, 'l2_leaf_reg': 0.8598019021337343}. Best is trial 125 with value: 57.5747283929045.\n",
      "[I 2025-07-23 08:32:50,118] Trial 129 finished with value: 59.17165895190677 and parameters: {'learning_rate': 0.1451047764582947, 'depth': 6, 'l2_leaf_reg': 0.8851731813963875}. Best is trial 125 with value: 57.5747283929045.\n",
      "[I 2025-07-23 08:32:50,344] Trial 130 finished with value: 59.985037393834496 and parameters: {'learning_rate': 0.1373570039535705, 'depth': 6, 'l2_leaf_reg': 0.7766018240960137}. Best is trial 125 with value: 57.5747283929045.\n",
      "[I 2025-07-23 08:32:50,569] Trial 131 finished with value: 57.537794178876965 and parameters: {'learning_rate': 0.1471418775743635, 'depth': 6, 'l2_leaf_reg': 0.6193718128694228}. Best is trial 131 with value: 57.537794178876965.\n",
      "[I 2025-07-23 08:32:50,781] Trial 132 finished with value: 56.92569050185653 and parameters: {'learning_rate': 0.14805627256213708, 'depth': 6, 'l2_leaf_reg': 0.636825042901449}. Best is trial 132 with value: 56.92569050185653.\n",
      "[I 2025-07-23 08:32:51,125] Trial 133 finished with value: 58.40500659396074 and parameters: {'learning_rate': 0.14922356264026332, 'depth': 6, 'l2_leaf_reg': 0.5135407329151548}. Best is trial 132 with value: 56.92569050185653.\n",
      "[I 2025-07-23 08:32:51,374] Trial 134 finished with value: 58.6449574926125 and parameters: {'learning_rate': 0.15288179748683084, 'depth': 6, 'l2_leaf_reg': 0.6422356617317572}. Best is trial 132 with value: 56.92569050185653.\n",
      "[I 2025-07-23 08:32:51,613] Trial 135 finished with value: 59.38246068783872 and parameters: {'learning_rate': 0.15787819807917444, 'depth': 6, 'l2_leaf_reg': 0.6761770920344273}. Best is trial 132 with value: 56.92569050185653.\n",
      "[I 2025-07-23 08:32:52,041] Trial 136 finished with value: 58.12700832301097 and parameters: {'learning_rate': 0.14638460198695682, 'depth': 6, 'l2_leaf_reg': 0.918036859977833}. Best is trial 132 with value: 56.92569050185653.\n",
      "[I 2025-07-23 08:32:52,330] Trial 137 finished with value: 60.33348997542824 and parameters: {'learning_rate': 0.16432741512847324, 'depth': 6, 'l2_leaf_reg': 0.8037143239618049}. Best is trial 132 with value: 56.92569050185653.\n",
      "[I 2025-07-23 08:32:52,603] Trial 138 finished with value: 59.180312684916736 and parameters: {'learning_rate': 0.1473638740059707, 'depth': 6, 'l2_leaf_reg': 0.9462469386146493}. Best is trial 132 with value: 56.92569050185653.\n",
      "[I 2025-07-23 08:32:52,872] Trial 139 finished with value: 58.163193863678366 and parameters: {'learning_rate': 0.14228561879906382, 'depth': 6, 'l2_leaf_reg': 0.5213205141434516}. Best is trial 132 with value: 56.92569050185653.\n",
      "[I 2025-07-23 08:32:53,150] Trial 140 finished with value: 60.058894061879506 and parameters: {'learning_rate': 0.135189944068923, 'depth': 6, 'l2_leaf_reg': 0.5520239305720748}. Best is trial 132 with value: 56.92569050185653.\n",
      "[I 2025-07-23 08:32:53,398] Trial 141 finished with value: 59.1232629137432 and parameters: {'learning_rate': 0.14193987536028224, 'depth': 6, 'l2_leaf_reg': 0.7567964389112691}. Best is trial 132 with value: 56.92569050185653.\n",
      "[I 2025-07-23 08:32:53,634] Trial 142 finished with value: 59.70480924787865 and parameters: {'learning_rate': 0.15085689108015965, 'depth': 6, 'l2_leaf_reg': 0.9308747690102717}. Best is trial 132 with value: 56.92569050185653.\n",
      "[I 2025-07-23 08:32:53,890] Trial 143 finished with value: 58.68320410832495 and parameters: {'learning_rate': 0.144468277279646, 'depth': 6, 'l2_leaf_reg': 1.0470032610644124}. Best is trial 132 with value: 56.92569050185653.\n",
      "[I 2025-07-23 08:32:54,111] Trial 144 finished with value: 60.40100613644316 and parameters: {'learning_rate': 0.1591723239900052, 'depth': 6, 'l2_leaf_reg': 0.6767678402068837}. Best is trial 132 with value: 56.92569050185653.\n",
      "[I 2025-07-23 08:32:54,338] Trial 145 finished with value: 57.847590200233014 and parameters: {'learning_rate': 0.1530039740729075, 'depth': 6, 'l2_leaf_reg': 0.5871651130092008}. Best is trial 132 with value: 56.92569050185653.\n",
      "[I 2025-07-23 08:32:54,539] Trial 146 finished with value: 58.64326410948316 and parameters: {'learning_rate': 0.1537759652363298, 'depth': 6, 'l2_leaf_reg': 0.5057590741584329}. Best is trial 132 with value: 56.92569050185653.\n",
      "[I 2025-07-23 08:32:54,741] Trial 147 finished with value: 57.98402460425479 and parameters: {'learning_rate': 0.1464484042384849, 'depth': 6, 'l2_leaf_reg': 0.5975614825472653}. Best is trial 132 with value: 56.92569050185653.\n",
      "[I 2025-07-23 08:32:54,919] Trial 148 finished with value: 59.741196650515434 and parameters: {'learning_rate': 0.1490819211462866, 'depth': 6, 'l2_leaf_reg': 0.6005576022241752}. Best is trial 132 with value: 56.92569050185653.\n",
      "[I 2025-07-23 08:32:55,128] Trial 149 finished with value: 59.32273187509619 and parameters: {'learning_rate': 0.15615036342605454, 'depth': 6, 'l2_leaf_reg': 0.715678475104174}. Best is trial 132 with value: 56.92569050185653.\n"
     ]
    }
   ],
   "source": [
    "# Step 2: Run the Optuna study\n",
    "study = optuna.create_study(direction=\"minimize\", sampler=optuna.samplers.TPESampler(seed=42))\n",
    "study.optimize(objective, n_trials=150)\n",
    "\n",
    "# Step 4: Train final model on full x_train with best parameters\n",
    "best_params = study.best_trial.params"
   ]
  },
  {
   "cell_type": "code",
   "execution_count": 68,
   "id": "fd1d434d-88c3-42d9-9159-7c99ad460468",
   "metadata": {},
   "outputs": [
    {
     "name": "stdout",
     "output_type": "stream",
     "text": [
      "Best RMSE: 56.92569050185653\n",
      "Best iteration (trees): 88\n"
     ]
    }
   ],
   "source": [
    "best_trial = study.best_trial\n",
    "print(\"Best RMSE:\", best_trial.value)\n",
    "print(\"Best iteration (trees):\", best_trial.user_attrs[\"best_iteration\"])"
   ]
  },
  {
   "cell_type": "code",
   "execution_count": 69,
   "id": "a0fd22a5-6325-4976-a585-c21de19a42b8",
   "metadata": {},
   "outputs": [],
   "source": [
    "best_params.update({\n",
    "    \"iterations\": best_trial.user_attrs[\"best_iteration\"],\n",
    "    \"loss_function\": \"RMSE\",\n",
    "    \"verbose\": 0\n",
    "})"
   ]
  },
  {
   "cell_type": "code",
   "execution_count": 70,
   "id": "6fc554ab-2842-43dc-87e8-6a9bfd802570",
   "metadata": {},
   "outputs": [
    {
     "data": {
      "text/plain": [
       "{'MAE': 41.19, 'RMSE': 64.82, 'MAPE': 26.62}"
      ]
     },
     "execution_count": 70,
     "metadata": {},
     "output_type": "execute_result"
    }
   ],
   "source": [
    "final_model = CatBoostRegressor(**best_params)\n",
    "final_model.fit(x_train, y_train)\n",
    "\n",
    "# Step 5: Predict on x_test and evaluate\n",
    "y_pred = final_model.predict(x_test)\n",
    "metrics_catbost = compute_metrics(y_test.values, y_pred)\n",
    "metrics_catbost"
   ]
  },
  {
   "cell_type": "code",
   "execution_count": 71,
   "id": "53de9a12-2cc5-40f5-81c1-ff2d3ff10f29",
   "metadata": {},
   "outputs": [
    {
     "name": "stdout",
     "output_type": "stream",
     "text": [
      "Baseline model scores: {'MAE': 84.77, 'RMSE': 116.01, 'MAPE': 34.56}\n",
      "Baseline model with target lags scores: {'MAE': 43.72, 'RMSE': 71.38, 'MAPE': 24.71}\n",
      "Baseline model with all lags scores: {'MAE': 43.42, 'RMSE': 71.27, 'MAPE': 24.19}\n",
      "Tuned Catboost: {'MAE': 41.19, 'RMSE': 64.82, 'MAPE': 26.62}\n"
     ]
    }
   ],
   "source": [
    "print('Baseline model scores:', metrics_base)\n",
    "print('Baseline model with target lags scores:', metrics_target_lag)\n",
    "print('Baseline model with all lags scores:', metrics_all_lags)\n",
    "print('Tuned Catboost:', metrics_catbost)"
   ]
  },
  {
   "cell_type": "code",
   "execution_count": 73,
   "id": "dd5ada30-2d95-4d86-a778-0ed4b77c8ec5",
   "metadata": {},
   "outputs": [
    {
     "data": {
      "text/plain": [
       "{'learning_rate': 0.14805627256213708,\n",
       " 'depth': 6,\n",
       " 'l2_leaf_reg': 0.636825042901449,\n",
       " 'iterations': 88,\n",
       " 'loss_function': 'RMSE',\n",
       " 'verbose': 0}"
      ]
     },
     "execution_count": 73,
     "metadata": {},
     "output_type": "execute_result"
    }
   ],
   "source": [
    "best_params"
   ]
  },
  {
   "cell_type": "code",
   "execution_count": 74,
   "id": "87c5a04d-6100-4728-b227-91d1dbc6a13f",
   "metadata": {},
   "outputs": [],
   "source": [
    "# Save the model to experiments\n",
    "final_model.save_model('./models/experiments/final_catboost_model.cbm')"
   ]
  },
  {
   "cell_type": "markdown",
   "id": "fc676525-69e9-4ece-a03c-90d30c4a6093",
   "metadata": {},
   "source": [
    "- We see that we are able to reduce the RMSE score and MAE score quite well.\n",
    "- MAPE score has not been reduced. However, since we have quite many values close to zero, MAPE is not a good metric in this case.\n",
    "- Note that in Bayesian Optiization we optimized for RMSE, we can also try to optimize for MAE."
   ]
  },
  {
   "cell_type": "markdown",
   "id": "c2245a0e-47e2-49f4-bf27-1cdea33f9f71",
   "metadata": {},
   "source": [
    "# Conclusions"
   ]
  },
  {
   "cell_type": "markdown",
   "id": "b79abb0f-c4f0-4dd9-a254-4b5cc8274e00",
   "metadata": {},
   "source": [
    "- The Baseline Random Foreset model with no feature engineering gave almost the same result as the dummy model (last value shifted forward)\n",
    "- Adding the target lags and feature lags improved the model significantly,\n",
    "- Changing Random Forest to Catboost and tuning Catboost Hyperparameters with Bayesian Optimization helped futher improve the scores.\n",
    "- For the production pipeline, we will use Catboost Model with Hyperparameter tuning."
   ]
  }
 ],
 "metadata": {
  "kernelspec": {
   "display_name": "Python 3 (ipykernel)",
   "language": "python",
   "name": "python3"
  },
  "language_info": {
   "codemirror_mode": {
    "name": "ipython",
    "version": 3
   },
   "file_extension": ".py",
   "mimetype": "text/x-python",
   "name": "python",
   "nbconvert_exporter": "python",
   "pygments_lexer": "ipython3",
   "version": "3.11.13"
  }
 },
 "nbformat": 4,
 "nbformat_minor": 5
}
